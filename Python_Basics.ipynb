{
  "cells": [
    {
      "cell_type": "markdown",
      "metadata": {
        "id": "view-in-github"
      },
      "source": [
        "<a href=\"https://colab.research.google.com/github/kaanberke/python3_101/blob/master/Python3%20101.ipynb\" target=\"_parent\"><img src=\"https://colab.research.google.com/assets/colab-badge.svg\" alt=\"Open In Colab\"/></a>"
      ]
    },
    {
      "cell_type": "markdown",
      "metadata": {
        "id": "xBq8uEszJkqw"
      },
      "source": [
        "# Python 101"
      ]
    },
    {
      "cell_type": "markdown",
      "metadata": {
        "id": "HMUDlnzZJkqx"
      },
      "source": [
        "![image](https://media.geeksforgeeks.org/wp-content/uploads/20191023173512/Python-data-structure.jpg)\n",
        "\n",
        "credit: https://www.geeksforgeeks.org/"
      ]
    },
    {
      "cell_type": "markdown",
      "metadata": {
        "id": "Glu5aHQQTcke"
      },
      "source": [
        "![mutable/immutable objects](https://miro.medium.com/max/1316/1*uFlTNY4W3czywyU18zxl8w.png)\n",
        "\n",
        "credit: https://medium.com/@meghamohan/mutable-and-immutable-side-of-python-c2145cf72747"
      ]
    },
    {
      "cell_type": "markdown",
      "metadata": {
        "id": "WF0c72S0Jkqy"
      },
      "source": [
        "___\n",
        "## Strings"
      ]
    },
    {
      "cell_type": "code",
      "execution_count": null,
      "metadata": {
        "colab": {
          "base_uri": "https://localhost:8080/",
          "height": 34
        },
        "id": "WK9Tyo8qJkqz",
        "outputId": "ae2e270b-aec3-4557-f5eb-21ef680e7718"
      },
      "outputs": [
        {
          "data": {
            "text/plain": [
              "'c'"
            ]
          },
          "execution_count": 1,
          "metadata": {},
          "output_type": "execute_result"
        }
      ],
      "source": [
        "'c'"
      ]
    },
    {
      "cell_type": "code",
      "execution_count": null,
      "metadata": {
        "id": "2u69GOy6Jkq5"
      },
      "outputs": [],
      "source": [
        "' '\n",
        "\n",
        "\" \"\n",
        "\n",
        "\"\"\" \"\"\""
      ]
    },
    {
      "cell_type": "code",
      "execution_count": null,
      "metadata": {
        "id": "bB2TZmfXJkq7"
      },
      "outputs": [],
      "source": [
        "\"Hello World\""
      ]
    },
    {
      "cell_type": "code",
      "execution_count": null,
      "metadata": {
        "id": "2x4g3wh6Jkq9"
      },
      "outputs": [],
      "source": [
        "\"\"\"\n",
        "Lorem\n",
        "ipsum\n",
        "\"\"\""
      ]
    },
    {
      "cell_type": "code",
      "execution_count": null,
      "metadata": {
        "id": "aYSkdveQJkq_",
        "outputId": "b0268433-33ca-4871-e3cd-bcc25ab07723"
      },
      "outputs": [
        {
          "data": {
            "text/plain": [
              "str"
            ]
          },
          "execution_count": 2,
          "metadata": {},
          "output_type": "execute_result"
        }
      ],
      "source": [
        "type('Lorem ipsum')"
      ]
    },
    {
      "cell_type": "code",
      "execution_count": null,
      "metadata": {
        "id": "f3hIC_cTJkrB",
        "outputId": "cd1f1440-2a03-48ab-b31d-b46bcc746df7"
      },
      "outputs": [
        {
          "data": {
            "text/plain": [
              "'Lorem ipsum'"
            ]
          },
          "execution_count": 3,
          "metadata": {},
          "output_type": "execute_result"
        }
      ],
      "source": [
        "\"Lorem\" +  \" \" + \"ipsum\""
      ]
    },
    {
      "cell_type": "code",
      "execution_count": null,
      "metadata": {
        "id": "wFsjpwIsJkrE",
        "outputId": "de1b744e-4922-4c27-d3dc-3e56333c1349"
      },
      "outputs": [
        {
          "data": {
            "text/plain": [
              "'Python bir proglama dilidir.'"
            ]
          },
          "execution_count": 4,
          "metadata": {},
          "output_type": "execute_result"
        }
      ],
      "source": [
        "\"Python\" \" \" \"bir\" \" \" \"proglama\" \" \" \"dilidir.\""
      ]
    },
    {
      "cell_type": "markdown",
      "metadata": {
        "id": "vQse1DFIJkrI"
      },
      "source": [
        "## Numbers"
      ]
    },
    {
      "cell_type": "code",
      "execution_count": null,
      "metadata": {
        "id": "vHy6mIU1JkrI",
        "outputId": "21845777-c176-4aad-da62-42759ae185b1"
      },
      "outputs": [
        {
          "data": {
            "text/plain": [
              "int"
            ]
          },
          "execution_count": 5,
          "metadata": {},
          "output_type": "execute_result"
        }
      ],
      "source": [
        "type(123)"
      ]
    },
    {
      "cell_type": "code",
      "execution_count": null,
      "metadata": {
        "id": "quas3r0gJkrK",
        "outputId": "3b911879-3037-428f-9c35-f59d9e455da2"
      },
      "outputs": [
        {
          "data": {
            "text/plain": [
              "float"
            ]
          },
          "execution_count": 6,
          "metadata": {},
          "output_type": "execute_result"
        }
      ],
      "source": [
        "type(22.3)"
      ]
    },
    {
      "cell_type": "code",
      "execution_count": null,
      "metadata": {
        "id": "Ah4oWZ2QJkrM",
        "outputId": "9691bcea-08f8-4fb9-b9d5-df479daef3b9"
      },
      "outputs": [
        {
          "data": {
            "text/plain": [
              "complex"
            ]
          },
          "execution_count": 7,
          "metadata": {},
          "output_type": "execute_result"
        }
      ],
      "source": [
        "type(7+2j)"
      ]
    },
    {
      "cell_type": "markdown",
      "metadata": {
        "id": "LC5-o1chJkrO"
      },
      "source": [
        "___\n",
        "## Arithmetic Operators"
      ]
    },
    {
      "cell_type": "code",
      "execution_count": null,
      "metadata": {
        "id": "ECFbr1XuJkrO",
        "outputId": "6938dcf9-ffa4-454c-8648-d672d67d4084"
      },
      "outputs": [
        {
          "data": {
            "text/plain": [
              "45"
            ]
          },
          "execution_count": 8,
          "metadata": {},
          "output_type": "execute_result"
        }
      ],
      "source": [
        "100 - 55"
      ]
    },
    {
      "cell_type": "code",
      "execution_count": null,
      "metadata": {
        "id": "wZsYupFqJkrQ",
        "outputId": "49cd9d1b-9bff-4ce7-c290-a2e532ef6cc6"
      },
      "outputs": [
        {
          "data": {
            "text/plain": [
              "3.3"
            ]
          },
          "execution_count": 9,
          "metadata": {},
          "output_type": "execute_result"
        }
      ],
      "source": [
        "4.5 - 1.2"
      ]
    },
    {
      "cell_type": "code",
      "execution_count": null,
      "metadata": {
        "id": "gKx04jX5JkrS",
        "outputId": "87af227c-ed9d-404c-ac17-7388993e3ac6"
      },
      "outputs": [
        {
          "data": {
            "text/plain": [
              "9.0"
            ]
          },
          "execution_count": 10,
          "metadata": {},
          "output_type": "execute_result"
        }
      ],
      "source": [
        "4.5 * 2"
      ]
    },
    {
      "cell_type": "code",
      "execution_count": null,
      "metadata": {
        "id": "3m1dbTPRJkrU",
        "outputId": "a21166a8-e1e3-49b8-bee0-dbec14cae1bb"
      },
      "outputs": [
        {
          "data": {
            "text/plain": [
              "5.0"
            ]
          },
          "execution_count": 11,
          "metadata": {},
          "output_type": "execute_result"
        }
      ],
      "source": [
        "10 / 2"
      ]
    },
    {
      "cell_type": "code",
      "execution_count": null,
      "metadata": {
        "id": "GkaKS_zyJkrW",
        "outputId": "61228431-b29a-4c1d-ab0c-796c08f00e9b"
      },
      "outputs": [
        {
          "data": {
            "text/plain": [
              "16"
            ]
          },
          "execution_count": 12,
          "metadata": {},
          "output_type": "execute_result"
        }
      ],
      "source": [
        "4**2"
      ]
    },
    {
      "cell_type": "code",
      "execution_count": null,
      "metadata": {
        "id": "x8nFQ7-2JkrY",
        "outputId": "2e0cc3fd-227f-4ad2-ff0e-0fdf366ff1f9"
      },
      "outputs": [
        {
          "data": {
            "text/plain": [
              "1"
            ]
          },
          "execution_count": 13,
          "metadata": {},
          "output_type": "execute_result"
        }
      ],
      "source": [
        "10 % 3"
      ]
    },
    {
      "cell_type": "code",
      "execution_count": null,
      "metadata": {
        "id": "GkuRzYdiJkra",
        "outputId": "137d408f-e21b-4960-b6ba-1ef340f3ec7b"
      },
      "outputs": [
        {
          "data": {
            "text/plain": [
              "3"
            ]
          },
          "execution_count": 14,
          "metadata": {},
          "output_type": "execute_result"
        }
      ],
      "source": [
        "10 // 3"
      ]
    },
    {
      "cell_type": "code",
      "execution_count": null,
      "metadata": {
        "id": "HiVV2JdBJkrc",
        "outputId": "f469a6b5-0df3-496f-b6a5-a00fc0f9a20b"
      },
      "outputs": [
        {
          "data": {
            "text/plain": [
              "25"
            ]
          },
          "execution_count": 15,
          "metadata": {},
          "output_type": "execute_result"
        }
      ],
      "source": [
        "pow(5, 2)"
      ]
    },
    {
      "cell_type": "code",
      "execution_count": null,
      "metadata": {
        "id": "pvzE9wvCJkre",
        "outputId": "a5f5fb97-d8f4-4acd-a8aa-be9d0ed4e6a2"
      },
      "outputs": [
        {
          "data": {
            "text/plain": [
              "int"
            ]
          },
          "execution_count": 16,
          "metadata": {},
          "output_type": "execute_result"
        }
      ],
      "source": [
        "type(2020)"
      ]
    },
    {
      "cell_type": "code",
      "execution_count": null,
      "metadata": {
        "id": "j2O1BKgfJkrG",
        "outputId": "442b40ca-697c-4c76-dff6-d89e16b0a787"
      },
      "outputs": [
        {
          "data": {
            "text/plain": [
              "'PythonPython'"
            ]
          },
          "execution_count": 17,
          "metadata": {},
          "output_type": "execute_result"
        }
      ],
      "source": [
        "\"Python\"*2"
      ]
    },
    {
      "cell_type": "markdown",
      "metadata": {
        "id": "OS_gd-AjJkry"
      },
      "source": [
        "___\n",
        "## Variables"
      ]
    },
    {
      "cell_type": "code",
      "execution_count": null,
      "metadata": {
        "id": "NVU2uRsKJkry"
      },
      "outputs": [],
      "source": [
        "değişken1 = 112\n",
        "değişken2 = 155"
      ]
    },
    {
      "cell_type": "code",
      "execution_count": null,
      "metadata": {
        "id": "YtzLclPYJkr0",
        "outputId": "90583858-6f01-49da-b37e-514fafafdf8a"
      },
      "outputs": [
        {
          "data": {
            "text/plain": [
              "112"
            ]
          },
          "execution_count": 19,
          "metadata": {},
          "output_type": "execute_result"
        }
      ],
      "source": [
        "değişken1"
      ]
    },
    {
      "cell_type": "code",
      "execution_count": null,
      "metadata": {
        "id": "S_l93AIwJkr2"
      },
      "outputs": [],
      "source": [
        "değişken1, değişken2 = değişken2, değişken1"
      ]
    },
    {
      "cell_type": "code",
      "execution_count": null,
      "metadata": {
        "id": "rjy2dTpmJkr3",
        "outputId": "a7bf44a7-0644-4c5a-91ed-70e7c8c37bc9"
      },
      "outputs": [
        {
          "data": {
            "text/plain": [
              "155"
            ]
          },
          "execution_count": 21,
          "metadata": {},
          "output_type": "execute_result"
        }
      ],
      "source": [
        "değişken1"
      ]
    },
    {
      "cell_type": "code",
      "execution_count": null,
      "metadata": {
        "id": "blSdUaiwJkrh"
      },
      "outputs": [],
      "source": [
        "saatlik_ücret = 10\n",
        "haftalık_çalışma_saati = 40"
      ]
    },
    {
      "cell_type": "code",
      "execution_count": null,
      "metadata": {
        "id": "w84b9N1iJkrj",
        "outputId": "afd1b2f3-2c71-4490-cc5c-2a979a662fd3"
      },
      "outputs": [
        {
          "data": {
            "text/plain": [
              "400"
            ]
          },
          "execution_count": 23,
          "metadata": {},
          "output_type": "execute_result"
        }
      ],
      "source": [
        "maaş = haftalık_çalışma_saati * saatlik_ücret\n",
        "maaş"
      ]
    },
    {
      "cell_type": "code",
      "execution_count": null,
      "metadata": {
        "id": "ipZ5R5XpJkrk"
      },
      "outputs": [],
      "source": [
        "username = \"admin\""
      ]
    },
    {
      "cell_type": "code",
      "execution_count": null,
      "metadata": {
        "id": "RWhzoaoNJkrn"
      },
      "outputs": [],
      "source": [
        "password = \"password\""
      ]
    },
    {
      "cell_type": "code",
      "execution_count": null,
      "metadata": {
        "id": "bJ-h6zLIJkrp",
        "outputId": "5c538de6-951c-42cd-98dd-5503fde77b77"
      },
      "outputs": [
        {
          "data": {
            "text/plain": [
              "5"
            ]
          },
          "execution_count": 26,
          "metadata": {},
          "output_type": "execute_result"
        }
      ],
      "source": [
        "len(username)"
      ]
    },
    {
      "cell_type": "code",
      "execution_count": null,
      "metadata": {
        "id": "bhiKQN4QJkrr",
        "outputId": "dd5b95d3-2b5c-454c-e2b4-8b4cb3aae81c"
      },
      "outputs": [
        {
          "data": {
            "text/plain": [
              "13"
            ]
          },
          "execution_count": 27,
          "metadata": {},
          "output_type": "execute_result"
        }
      ],
      "source": [
        "len(username) + len(password)"
      ]
    },
    {
      "cell_type": "code",
      "execution_count": null,
      "metadata": {
        "id": "0h-Svli1Jkrt"
      },
      "outputs": [],
      "source": [
        "sayı = 5\n",
        "# 5\n",
        "\n",
        "sayı += 5\n",
        "print(sayı)\n",
        "# 10\n",
        "\n",
        "sayı -= 5\n",
        "print(sayı)\n",
        "# 5\n",
        "\n",
        "sayı *= 5\n",
        "print(sayı)\n",
        "# 25\n",
        "\n",
        "sayı /= 5\n",
        "print(sayı)\n",
        "# 5.0\n",
        "\n",
        "sayı **= 2\n",
        "print(sayı)\n",
        "# 25.0\n",
        "\n",
        "sayı //= 4\n",
        "print(sayı)\n",
        "# 6.0\n",
        "\n",
        "sayı %= 5\n",
        "print(sayı)\n",
        "# 1.0"
      ]
    },
    {
      "cell_type": "markdown",
      "source": [
        "___\n",
        "## Keywords"
      ],
      "metadata": {
        "id": "qDBRIkBaVJ1N"
      }
    },
    {
      "cell_type": "code",
      "execution_count": null,
      "metadata": {
        "id": "XZ3euUGuJkru",
        "outputId": "1f8f31e5-435e-4a7c-f7b6-b00c9bec4c71"
      },
      "outputs": [
        {
          "data": {
            "text/plain": [
              "['False',\n",
              " 'None',\n",
              " 'True',\n",
              " 'and',\n",
              " 'as',\n",
              " 'assert',\n",
              " 'async',\n",
              " 'await',\n",
              " 'break',\n",
              " 'class',\n",
              " 'continue',\n",
              " 'def',\n",
              " 'del',\n",
              " 'elif',\n",
              " 'else',\n",
              " 'except',\n",
              " 'finally',\n",
              " 'for',\n",
              " 'from',\n",
              " 'global',\n",
              " 'if',\n",
              " 'import',\n",
              " 'in',\n",
              " 'is',\n",
              " 'lambda',\n",
              " 'nonlocal',\n",
              " 'not',\n",
              " 'or',\n",
              " 'pass',\n",
              " 'raise',\n",
              " 'return',\n",
              " 'try',\n",
              " 'while',\n",
              " 'with',\n",
              " 'yield']"
            ]
          },
          "execution_count": 28,
          "metadata": {},
          "output_type": "execute_result"
        }
      ],
      "source": [
        "import keyword\n",
        "keyword.kwlist"
      ]
    },
    {
      "cell_type": "markdown",
      "metadata": {
        "id": "oXefclbtJkr5"
      },
      "source": [
        "___\n",
        "## Print Function"
      ]
    },
    {
      "cell_type": "code",
      "execution_count": null,
      "metadata": {
        "id": "80dhyKXlTckp",
        "outputId": "33dc5ab9-b55d-447c-e8af-5509d9e03aeb"
      },
      "outputs": [
        {
          "name": "stdout",
          "output_type": "stream",
          "text": [
            "Hello World\n"
          ]
        }
      ],
      "source": [
        "print(\"Hello World\")"
      ]
    },
    {
      "cell_type": "code",
      "execution_count": null,
      "metadata": {
        "id": "zMyB-Ss8Jkr5",
        "outputId": "6a6ad318-b034-43dc-ed9c-a405a24ca41c"
      },
      "outputs": [
        {
          "name": "stdout",
          "output_type": "stream",
          "text": [
            "Lorem Ipsum is simply dummy text\n"
          ]
        }
      ],
      "source": [
        "print(\"Lorem\", \"Ipsum\", \"is\", \"simply\", \"dummy\", \"text\")"
      ]
    },
    {
      "cell_type": "code",
      "execution_count": null,
      "metadata": {
        "id": "WjIT8y4NJkr7"
      },
      "outputs": [],
      "source": [
        "print(\"Lorem Ipsum is simply dummy text\", sep=\" \", end=\"\\n\")"
      ]
    },
    {
      "cell_type": "code",
      "execution_count": null,
      "metadata": {
        "id": "zzrxTH1xJkr9",
        "outputId": "1bd92484-6825-4c67-e36e-bb57deb5e2c5"
      },
      "outputs": [
        {
          "name": "stdout",
          "output_type": "stream",
          "text": [
            "Lorem-Ipsum-is-simply-dummy-text\n"
          ]
        }
      ],
      "source": [
        "print(\"Lorem\", \"Ipsum\", \"is\", \"simply\", \"dummy\", \"text\", sep=\"-\", end=\"\\n\")"
      ]
    },
    {
      "cell_type": "code",
      "execution_count": null,
      "metadata": {
        "id": "PXC2avEeJkr-",
        "outputId": "a822bb00-1393-41da-9cd5-b3cacfc984d9"
      },
      "outputs": [
        {
          "name": "stdout",
          "output_type": "stream",
          "text": [
            "Lorem-py-Ipsum-py-is-py-simply-py-dummy-py-text!!"
          ]
        }
      ],
      "source": [
        "print(\"Lorem\", \"Ipsum\", \"is\", \"simply\", \"dummy\", \"text\", sep=\"-py-\", end=\"!!\")"
      ]
    },
    {
      "cell_type": "code",
      "execution_count": null,
      "metadata": {
        "id": "ReIClT58JksB",
        "outputId": "f82d39f6-7398-47e8-c5c2-7d5e7b872167"
      },
      "outputs": [
        {
          "name": "stdout",
          "output_type": "stream",
          "text": [
            "L-o-r-e-m- -i-p-s-u-m\n"
          ]
        }
      ],
      "source": [
        "print(*\"Lorem ipsum\", sep=\"-\")"
      ]
    },
    {
      "cell_type": "code",
      "execution_count": null,
      "metadata": {
        "id": "1bWuHVxxJksD",
        "outputId": "ee25d029-4413-43ae-d138-06f3a1ee3003"
      },
      "outputs": [
        {
          "name": "stdout",
          "output_type": "stream",
          "text": [
            "Ölü Ozanlar Derneği 1989\n"
          ]
        }
      ],
      "source": [
        "print(\"Ölü\", \"Ozanlar\", \"Derneği\", 1989)"
      ]
    },
    {
      "cell_type": "code",
      "execution_count": null,
      "metadata": {
        "id": "W2Qxkm6DJksF",
        "outputId": "9a299210-c85f-43c7-a12d-41dffcf36b53"
      },
      "outputs": [
        {
          "name": "stdout",
          "output_type": "stream",
          "text": [
            "Python is an interpreted, high-level, general-purpose programming language. Created by Guido van Rossum and first released in 1991, Python has a design philosophy that emphasizes code readability, notably using significant whitespace. It provides constructs that enable clear programming on both small and large scales. \n"
          ]
        }
      ],
      "source": [
        "print(\"Python is an interpreted, high-level, general-purpose programming language. Created by Guido van Rossum and first released in 1991, Python has a design philosophy that emphasizes code readability, notably using significant whitespace. It provides constructs that enable clear programming on both small and large scales. \")"
      ]
    },
    {
      "cell_type": "code",
      "execution_count": null,
      "metadata": {
        "id": "4O1dUaSLJksH",
        "outputId": "69bd7dd4-6490-46bd-bcbf-14b653f75f91"
      },
      "outputs": [
        {
          "ename": "SyntaxError",
          "evalue": "EOL while scanning string literal (<ipython-input-39-87d73e5ebdc7>, line 1)",
          "output_type": "error",
          "traceback": [
            "\u001b[0;36m  File \u001b[0;32m\"<ipython-input-39-87d73e5ebdc7>\"\u001b[0;36m, line \u001b[0;32m1\u001b[0m\n\u001b[0;31m    print(\"Ölü\u001b[0m\n\u001b[0m               ^\u001b[0m\n\u001b[0;31mSyntaxError\u001b[0m\u001b[0;31m:\u001b[0m EOL while scanning string literal\n"
          ]
        }
      ],
      "source": [
        "print(\"Ölü\n",
        "      Ozanlar\n",
        "      Derneği\")"
      ]
    },
    {
      "cell_type": "code",
      "execution_count": null,
      "metadata": {
        "id": "Whp0QyTfJksJ",
        "outputId": "9f40de54-8be6-440b-f3d1-43d0fb9ed1e8"
      },
      "outputs": [
        {
          "name": "stdout",
          "output_type": "stream",
          "text": [
            "Ölü \n",
            "Ozanlar \n",
            "Derneği\n"
          ]
        }
      ],
      "source": [
        "print(\"\"\"Ölü\n",
        "Ozanlar\n",
        "Derneği\"\"\")"
      ]
    },
    {
      "cell_type": "code",
      "execution_count": null,
      "metadata": {
        "id": "c0pdZlIWJksM",
        "outputId": "fafdbd51-9fb0-4754-81ee-b47f56fc9367"
      },
      "outputs": [
        {
          "name": "stdout",
          "output_type": "stream",
          "text": [
            "\"Dünya Güneş Venüs Mars\"\n"
          ]
        }
      ],
      "source": [
        "print(\"\\\"Dünya Güneş Venüs Mars\\\"\")"
      ]
    },
    {
      "cell_type": "code",
      "execution_count": null,
      "metadata": {
        "id": "n1ItmqInJksO",
        "outputId": "59d29cb8-e825-4760-c239-833a96516aaf"
      },
      "outputs": [
        {
          "name": "stdout",
          "output_type": "stream",
          "text": [
            "Gül sokak 10\\7 Merkez\\Niğde\n"
          ]
        }
      ],
      "source": [
        "print(\"Gül sokak 10\\\\7 Merkez\\\\Niğde\")"
      ]
    },
    {
      "cell_type": "code",
      "execution_count": null,
      "metadata": {
        "id": "VvH7DFFsJksP",
        "outputId": "1e245cd6-0ddc-4035-a670-4520f24c3774"
      },
      "outputs": [
        {
          "name": "stdout",
          "output_type": "stream",
          "text": [
            "Yeni Satırbaşı\n"
          ]
        }
      ],
      "source": [
        "print(\"Eski Satırbaşı\\rYeni\")"
      ]
    },
    {
      "cell_type": "code",
      "execution_count": null,
      "metadata": {
        "id": "Kcdy2EF8JksQ",
        "outputId": "0bba07a9-aa53-46a0-8076-aaba06717bfe"
      },
      "outputs": [
        {
          "name": "stdout",
          "output_type": "stream",
          "text": [
            "Birkaç boşluk\taralık\n"
          ]
        }
      ],
      "source": [
        "print(\"Birkaç boşluk\\taralık\")"
      ]
    },
    {
      "cell_type": "code",
      "execution_count": null,
      "metadata": {
        "id": "jBeDpfhjTckt",
        "outputId": "6e37404d-5894-46a7-b395-602ffcc1ffea"
      },
      "outputs": [
        {
          "name": "stdout",
          "output_type": "stream",
          "text": [
            "\\nMerhaba\\tDünya\\r\\\\\n"
          ]
        }
      ],
      "source": [
        "print(r\"\\nMerhaba\\tDünya\\r\\\\\")"
      ]
    },
    {
      "cell_type": "markdown",
      "metadata": {
        "id": "3B7tlffyJksS"
      },
      "source": [
        "___\n",
        "## input() Function"
      ]
    },
    {
      "cell_type": "code",
      "execution_count": null,
      "metadata": {
        "id": "dkLi7oGXJksS",
        "outputId": "d02a1295-4de0-4bf0-f7da-864fb96cbdab"
      },
      "outputs": [
        {
          "name": "stdin",
          "output_type": "stream",
          "text": [
            "İsminiz:  John Doe\n",
            "Yaşınız:  33\n"
          ]
        },
        {
          "name": "stdout",
          "output_type": "stream",
          "text": [
            "John Doe 33\n"
          ]
        }
      ],
      "source": [
        "isim = input(\"İsminiz: \")\n",
        "yaş = input(\"Yaşınız: \")\n",
        "print(isim, yaş)"
      ]
    },
    {
      "cell_type": "code",
      "execution_count": null,
      "metadata": {
        "id": "rn36GmZeJksT",
        "outputId": "3ceb8fbe-4772-49de-9316-492a299aa6b7"
      },
      "outputs": [
        {
          "ename": "TypeError",
          "evalue": "can only concatenate str (not \"int\") to str",
          "output_type": "error",
          "traceback": [
            "\u001b[0;31m---------------------------------------------------------------------------\u001b[0m",
            "\u001b[0;31mTypeError\u001b[0m                                 Traceback (most recent call last)",
            "\u001b[0;32m<ipython-input-50-140bed50b6ad>\u001b[0m in \u001b[0;36m<module>\u001b[0;34m\u001b[0m\n\u001b[0;32m----> 1\u001b[0;31m \u001b[0myaş\u001b[0m \u001b[0;34m+\u001b[0m \u001b[0;36m10\u001b[0m\u001b[0;34m\u001b[0m\u001b[0;34m\u001b[0m\u001b[0m\n\u001b[0m",
            "\u001b[0;31mTypeError\u001b[0m: can only concatenate str (not \"int\") to str"
          ]
        }
      ],
      "source": [
        "yaş + 10"
      ]
    },
    {
      "cell_type": "code",
      "execution_count": null,
      "metadata": {
        "id": "khSPjLXwJksV",
        "outputId": "983593f1-43dc-4b0a-88ce-91c51e541daa"
      },
      "outputs": [
        {
          "data": {
            "text/plain": [
              "str"
            ]
          },
          "execution_count": 51,
          "metadata": {},
          "output_type": "execute_result"
        }
      ],
      "source": [
        "type(yaş)"
      ]
    },
    {
      "cell_type": "markdown",
      "metadata": {
        "id": "mq-btx0zJksY"
      },
      "source": [
        "___\n",
        "## Type Casting"
      ]
    },
    {
      "cell_type": "code",
      "execution_count": null,
      "metadata": {
        "id": "pl9GcoiSJksY",
        "outputId": "e21d3bb1-1017-4c48-cd48-5e004cc303a2"
      },
      "outputs": [
        {
          "name": "stdout",
          "output_type": "stream",
          "text": [
            "43\n",
            "<class 'int'>\n"
          ]
        }
      ],
      "source": [
        "yaş = int(yaş) + 10\n",
        "print(yaş)\n",
        "print(type(yaş))"
      ]
    },
    {
      "cell_type": "code",
      "execution_count": null,
      "metadata": {
        "id": "GT0_jzMIJksb",
        "outputId": "dc282a1c-2bab-4630-835e-c885e268c529"
      },
      "outputs": [
        {
          "name": "stdout",
          "output_type": "stream",
          "text": [
            "58.5\n",
            "<class 'float'>\n"
          ]
        }
      ],
      "source": [
        "yaş = float(yaş) + 5.5\n",
        "print(yaş)\n",
        "print(type(yaş))"
      ]
    },
    {
      "cell_type": "code",
      "execution_count": null,
      "metadata": {
        "id": "tM7yyV_pJksd",
        "outputId": "2e9dfecc-cb8f-4b49-f659-7b97b77c3b51"
      },
      "outputs": [
        {
          "name": "stdout",
          "output_type": "stream",
          "text": [
            "John Doe 58.5 yaşında!\n"
          ]
        }
      ],
      "source": [
        "print(isim + \" \" + str(yaş) + \" yaşında!\")"
      ]
    },
    {
      "cell_type": "code",
      "execution_count": null,
      "metadata": {
        "id": "A968qrVFJksf",
        "outputId": "a5b5de32-9a40-4664-ac93-e23230e18623"
      },
      "outputs": [
        {
          "name": "stdout",
          "output_type": "stream",
          "text": [
            "Üs hesaplamak için\n"
          ]
        },
        {
          "name": "stdin",
          "output_type": "stream",
          "text": [
            "Taban sayıyı girin:  5\n",
            "Üs sayıyı girin:  2\n"
          ]
        },
        {
          "name": "stdout",
          "output_type": "stream",
          "text": [
            "5 ** 2 = 25\n"
          ]
        }
      ],
      "source": [
        "print(\"Üs hesaplamak için\")\n",
        "sayı1 = int(input(\"Taban sayıyı girin: \"))\n",
        "sayı2 = int(input(\"Üs sayıyı girin: \"))\n",
        "print(sayı1, \"**\", sayı2, \"=\", pow(sayı1,sayı2))"
      ]
    },
    {
      "cell_type": "markdown",
      "metadata": {
        "id": "sAJDYmxeTckv"
      },
      "source": [
        "___\n",
        "## String Formatting"
      ]
    },
    {
      "cell_type": "code",
      "execution_count": null,
      "metadata": {
        "id": "xLAdbedkJksh",
        "outputId": "bbaf9413-c0f6-4c67-a644-a58ba6efeacc"
      },
      "outputs": [
        {
          "name": "stdout",
          "output_type": "stream",
          "text": [
            "Selam, benim adım 33 ve John Doe yaşındayım!\n"
          ]
        }
      ],
      "source": [
        "print(\"Selam, benim adım {1} ve {0} yaşındayım!\".format(isim, 33))"
      ]
    },
    {
      "cell_type": "code",
      "execution_count": null,
      "metadata": {
        "id": "TQgVS2PPJksi",
        "outputId": "d6d9412e-f000-4642-94c9-401d48cf9804"
      },
      "outputs": [
        {
          "name": "stdout",
          "output_type": "stream",
          "text": [
            "Selam, benim adım John Doe ve 48.5 yaşındayım!\n"
          ]
        }
      ],
      "source": [
        "print(f\"Selam, benim adım {isim} ve {yaş-10} yaşındayım!\")"
      ]
    },
    {
      "cell_type": "markdown",
      "metadata": {
        "id": "rInHfh0wJksj"
      },
      "source": [
        "___\n",
        "## Condition Statements"
      ]
    },
    {
      "cell_type": "code",
      "execution_count": null,
      "metadata": {
        "id": "AKf1VB6EJksk",
        "scrolled": true,
        "outputId": "91a2f105-ebd4-42fc-d0ec-4d4710aab818"
      },
      "outputs": [
        {
          "data": {
            "text/plain": [
              "True"
            ]
          },
          "execution_count": 63,
          "metadata": {},
          "output_type": "execute_result"
        }
      ],
      "source": [
        "bool(1)"
      ]
    },
    {
      "cell_type": "code",
      "execution_count": null,
      "metadata": {
        "id": "6-PsEehWTckw",
        "outputId": "cd2fd6ff-c659-44fc-c13f-e4c869212c47"
      },
      "outputs": [
        {
          "data": {
            "text/plain": [
              "False"
            ]
          },
          "execution_count": 64,
          "metadata": {},
          "output_type": "execute_result"
        }
      ],
      "source": [
        "bool(0)"
      ]
    },
    {
      "cell_type": "code",
      "execution_count": null,
      "metadata": {
        "id": "jFCUE4R0Jksm",
        "outputId": "d74b4ab7-cda1-4a3b-90e1-9fabfd4d3892"
      },
      "outputs": [
        {
          "data": {
            "text/plain": [
              "False"
            ]
          },
          "execution_count": 67,
          "metadata": {},
          "output_type": "execute_result"
        }
      ],
      "source": [
        "bool(\"\")"
      ]
    },
    {
      "cell_type": "code",
      "execution_count": null,
      "metadata": {
        "id": "8LiNhp5DJksn",
        "outputId": "91b17282-40cb-4850-c7a0-ae95d5f6bc2a"
      },
      "outputs": [
        {
          "data": {
            "text/plain": [
              "11"
            ]
          },
          "execution_count": 69,
          "metadata": {},
          "output_type": "execute_result"
        }
      ],
      "source": [
        "bool(\"Lorem ipsum\")"
      ]
    },
    {
      "cell_type": "code",
      "execution_count": null,
      "metadata": {
        "id": "-LXjzNywJksp",
        "outputId": "c8e9206f-8fc1-4d8c-a06c-751afa72d20e"
      },
      "outputs": [
        {
          "data": {
            "text/plain": [
              "False"
            ]
          },
          "execution_count": 72,
          "metadata": {},
          "output_type": "execute_result"
        }
      ],
      "source": [
        "bool(1234)"
      ]
    },
    {
      "cell_type": "markdown",
      "metadata": {
        "id": "mxpEep9qJksq"
      },
      "source": [
        "```\n",
        "==   Eşittir\n",
        "!=   Eşit Değildir\n",
        ">    Büyüktür\n",
        "<    Küçüktür\n",
        ">=   Büyük Eşittir\n",
        "<=   Küçük Eşittir\n",
        "```"
      ]
    },
    {
      "cell_type": "code",
      "execution_count": null,
      "metadata": {
        "id": "sYyNRA_kJksr",
        "outputId": "86b4c2ac-e833-49b6-f52f-8ed72fd4491e"
      },
      "outputs": [
        {
          "name": "stdout",
          "output_type": "stream",
          "text": [
            "(50 > 30) : True\n",
            "(20 > 30) : False\n",
            "(50 > 30) and (20 > 30) : False\n",
            "(50 > 30) or (20 > 30) : True\n"
          ]
        }
      ],
      "source": [
        "print(\"(50 > 30) :\", (50 > 30))\n",
        "print(\"(20 > 30) :\", (20 > 30))\n",
        "print(\"(50 > 30) and (20 > 30) :\", (50 > 30) and (20 > 30))\n",
        "print(\"(50 > 30) or (20 > 30) :\", (50 > 30) or (20 > 30))"
      ]
    },
    {
      "cell_type": "code",
      "execution_count": null,
      "metadata": {
        "id": "zsJgyfC0Jkss",
        "outputId": "f0e9c5c5-1387-4a6b-96fc-fc9cd25d9046"
      },
      "outputs": [
        {
          "name": "stdout",
          "output_type": "stream",
          "text": [
            "False\n"
          ]
        }
      ],
      "source": [
        "print(True and False)"
      ]
    },
    {
      "cell_type": "code",
      "execution_count": null,
      "metadata": {
        "id": "FMVLr_PWJkst",
        "outputId": "2045324e-11aa-445b-bdaa-aea8f42604fc"
      },
      "outputs": [
        {
          "name": "stdout",
          "output_type": "stream",
          "text": [
            "True\n"
          ]
        }
      ],
      "source": [
        "print(True and True)"
      ]
    },
    {
      "cell_type": "code",
      "execution_count": null,
      "metadata": {
        "id": "AOgWL1PUJksu",
        "outputId": "9f7721f5-c9ed-443b-d464-453362c4fe4d"
      },
      "outputs": [
        {
          "name": "stdout",
          "output_type": "stream",
          "text": [
            "True\n"
          ]
        }
      ],
      "source": [
        "print(not False)"
      ]
    },
    {
      "cell_type": "code",
      "execution_count": null,
      "metadata": {
        "id": "MFQ3lI0ZJksv",
        "outputId": "6a6dde00-9e51-424b-8f40-624551e4dbb1"
      },
      "outputs": [
        {
          "name": "stdin",
          "output_type": "stream",
          "text": [
            "Sayı giriniz: 678\n"
          ]
        },
        {
          "name": "stdout",
          "output_type": "stream",
          "text": [
            "25'ten büyük!\n"
          ]
        }
      ],
      "source": [
        "a = int(input(\"Sayı giriniz:\"))\n",
        "\n",
        "if a < 10:\n",
        "    print(\"10'dan küçük!\")\n",
        "elif a < 15:\n",
        "    print(\"15'ten küçük!\")\n",
        "elif a <= 25:\n",
        "    print(\"25'ten küçük veya 25'e eşit!\")\n",
        "else:\n",
        "    print(\"25'ten büyük!\")"
      ]
    },
    {
      "cell_type": "code",
      "execution_count": null,
      "metadata": {
        "id": "cqrX-afxJksx",
        "outputId": "67979893-98a8-4bc5-8a7c-e185d53eb38a"
      },
      "outputs": [
        {
          "name": "stdin",
          "output_type": "stream",
          "text": [
            "Kullanıcı adınız: test\n",
            "Şifreniz: test2\n"
          ]
        },
        {
          "name": "stdout",
          "output_type": "stream",
          "text": [
            "Kullanıcı adı veya şifre yanlış!\n"
          ]
        }
      ],
      "source": [
        "gerçek_kullanıcı = \"test\"\n",
        "gerçek_şifre = \"test\"\n",
        "\n",
        "sorulan_kullanıcı = input(\"Kullanıcı adınız:\")\n",
        "sorulan_şifre = input(\"Şifreniz:\")\n",
        "\n",
        "if gerçek_şifre == sorulan_şifre and gerçek_kullanıcı == sorulan_kullanıcı:\n",
        "    print(\"Giriş başarılı!\")\n",
        "elif not sorulan_kullanıcı:\n",
        "    print(\"Kullanıcı adı alanı boş olamaz!\")\n",
        "elif not sorulan_şifre:\n",
        "    print(\"Şifre alanı boş olamaz!\")\n",
        "else:\n",
        "    print(\"Kullanıcı adı veya şifre yanlış!\")"
      ]
    },
    {
      "cell_type": "code",
      "execution_count": null,
      "metadata": {
        "id": "dSJOWv7cJksy",
        "outputId": "392e9e1a-7d05-4b77-a8cd-2fde634a75cd"
      },
      "outputs": [
        {
          "name": "stdin",
          "output_type": "stream",
          "text": [
            "Sözcüğü giriniz: sözcük\n"
          ]
        },
        {
          "name": "stdout",
          "output_type": "stream",
          "text": [
            "Cümlede öyle bir sözcük yok!\n"
          ]
        }
      ],
      "source": [
        "cümle = \"\"\"Python, nesne yönelimli, yorumlamalı,\n",
        "birimsel ve etkileşimli yüksek seviyeli bir programlama dilidir.\"\"\"\n",
        "\n",
        "aranacak_sözcük = input(\"Sözcüğü giriniz:\")\n",
        "\n",
        "if aranacak_sözcük in cümle:\n",
        "    print(\"Aranan sözcük cümlede mevcut!\")\n",
        "else:\n",
        "    print(\"Cümlede öyle bir sözcük yok!\")"
      ]
    },
    {
      "cell_type": "markdown",
      "metadata": {
        "id": "h3tDa46CJksz"
      },
      "source": [
        "### Walrus Operator"
      ]
    },
    {
      "cell_type": "code",
      "execution_count": null,
      "metadata": {
        "colab": {
          "base_uri": "https://localhost:8080/",
          "height": 130
        },
        "id": "9FvOoOzHJksz",
        "outputId": "3aa17a5d-d7d6-4edb-b69b-de32fa1680fd"
      },
      "outputs": [
        {
          "name": "stdin",
          "output_type": "stream",
          "text": [
            "Yaşınız:  21\n"
          ]
        },
        {
          "name": "stdout",
          "output_type": "stream",
          "text": [
            "21 yaşındasınız, girebilirsiniz!\n",
            "21\n"
          ]
        }
      ],
      "source": [
        "# yaş = int(input(\"Yaşınız: \"))\n",
        "if (yaş := int(input(\"Yaşınız: \"))) >= 18:\n",
        "    print(f\"{yaş} yaşındasınız, girebilirsiniz!\")\n",
        "else:\n",
        "    print(f\"{yaş} yaşındasınız, henüz giremezsiniz!\")\n",
        "\n",
        "print(yaş)"
      ]
    },
    {
      "cell_type": "markdown",
      "metadata": {
        "id": "keNFEmgLJks1"
      },
      "source": [
        "### File Operations"
      ]
    },
    {
      "cell_type": "code",
      "execution_count": null,
      "metadata": {
        "id": "bLCRVYjGJks1"
      },
      "outputs": [],
      "source": [
        "f = open('test.txt', 'w')\n",
        "print(\"Deneme0\", file=f, flush=False)"
      ]
    },
    {
      "cell_type": "code",
      "execution_count": null,
      "metadata": {
        "id": "uNR6hGxDJks3",
        "outputId": "99ffd4b4-e70d-4441-a584-0ef68f80e5ca"
      },
      "outputs": [
        {
          "data": {
            "text/plain": [
              "28"
            ]
          },
          "execution_count": 93,
          "metadata": {},
          "output_type": "execute_result"
        }
      ],
      "source": [
        "print(\"Deneme1\", file=f, flush=True)\n",
        "print(\"Deneme2\", file=f, flush=True)\n",
        "f.write('Deneme3 f.write() kullanarak')"
      ]
    },
    {
      "cell_type": "code",
      "execution_count": null,
      "metadata": {
        "id": "75k8V0ERJks4"
      },
      "outputs": [],
      "source": [
        "f.close()"
      ]
    },
    {
      "cell_type": "code",
      "execution_count": null,
      "metadata": {
        "id": "c48LOC3LJks5",
        "outputId": "cc70e58c-8a4f-49af-bc26-44c0a4d79e67"
      },
      "outputs": [
        {
          "name": "stdout",
          "output_type": "stream",
          "text": [
            "Deneme0\n",
            "Deneme1\n",
            "Deneme2\n",
            "Deneme3 f.write() kullanarak\n"
          ]
        }
      ],
      "source": [
        "f = open('test.txt', 'r')\n",
        "print(f.read())"
      ]
    },
    {
      "cell_type": "code",
      "execution_count": null,
      "metadata": {
        "id": "0Bo2io9aJks6",
        "outputId": "05c5f7f3-2b5d-4cb3-a647-5e8b56e9608e"
      },
      "outputs": [
        {
          "name": "stdout",
          "output_type": "stream",
          "text": [
            "Deneme0\n",
            "Deneme1\n",
            "Deneme2\n",
            "Deneme3 f.write() kullanarak\n"
          ]
        }
      ],
      "source": [
        "f.seek(0)\n",
        "print(f.read())"
      ]
    },
    {
      "cell_type": "code",
      "execution_count": null,
      "metadata": {
        "id": "gcz3wDZ9Jks7",
        "outputId": "9cbc472f-e7b1-45a1-db09-3d8018a9bc5c"
      },
      "outputs": [
        {
          "name": "stdout",
          "output_type": "stream",
          "text": [
            "Deneme0\n",
            "\n",
            "Deneme1\n",
            "\n",
            "['Deneme0\\n', 'Deneme1\\n', 'Deneme2\\n', 'Deneme3 f.write() kullanarak']\n"
          ]
        }
      ],
      "source": [
        "f.seek(0)\n",
        "print(f.readline())\n",
        "print(f.readline())\n",
        "\n",
        "f.seek(0)\n",
        "print(f.readlines())\n",
        "\n",
        "f.close()"
      ]
    },
    {
      "cell_type": "code",
      "execution_count": null,
      "metadata": {
        "id": "qDy-qComJks8",
        "outputId": "4cb45fec-e285-4a20-c9c2-438e4728f22a"
      },
      "outputs": [
        {
          "name": "stdout",
          "output_type": "stream",
          "text": [
            "Deneme0\n",
            "Deneme1\n",
            "Deneme2\n",
            "Deneme3 f.write() kullanarak\n"
          ]
        }
      ],
      "source": [
        "with open('test.txt', 'a') as f:\n",
        "    print(f.read())\n",
        "    f.write('\\nDeneme 4 with open() kullanarak')\n",
        "\n",
        "    \"\"\"\n",
        "    w = Write\n",
        "    r = Read\n",
        "    a = Append\n",
        "    \"\"\""
      ]
    },
    {
      "cell_type": "markdown",
      "metadata": {
        "id": "XTtGXdC8Jks9"
      },
      "source": [
        "___\n",
        "## Loops"
      ]
    },
    {
      "cell_type": "code",
      "execution_count": null,
      "metadata": {
        "id": "zSxVMO7dJks9",
        "outputId": "8d42091d-9dec-459c-ecf9-bb0e51243c7e"
      },
      "outputs": [
        {
          "name": "stdout",
          "output_type": "stream",
          "text": [
            "5\n",
            "6\n",
            "7\n",
            "8\n",
            "9\n"
          ]
        }
      ],
      "source": [
        "a = 5\n",
        "\n",
        "while a < 10:\n",
        "    print(a)\n",
        "    a += 1"
      ]
    },
    {
      "cell_type": "code",
      "execution_count": null,
      "metadata": {
        "id": "GETqbjwpJks-",
        "outputId": "021896a0-66d6-4184-893f-8577d237d288"
      },
      "outputs": [
        {
          "name": "stdout",
          "output_type": "stream",
          "text": [
            "O\n",
            "ğ\n",
            "u\n",
            "z\n",
            " \n",
            "A\n",
            "T\n",
            "A\n",
            "Y\n"
          ]
        }
      ],
      "source": [
        "isim = \"Oğuz ATAY\"\n",
        "for harf in isim:\n",
        "    print(harf)"
      ]
    },
    {
      "cell_type": "markdown",
      "metadata": {
        "id": "DSTZe9HZJks_"
      },
      "source": [
        "___\n",
        "#### Range, break, continue, pass statements\n",
        "___"
      ]
    },
    {
      "cell_type": "code",
      "execution_count": null,
      "metadata": {
        "id": "9VaEuTCTJks_",
        "outputId": "db9e4bbb-f215-4ce6-d713-2e7814ae4c4d"
      },
      "outputs": [
        {
          "name": "stdout",
          "output_type": "stream",
          "text": [
            "2\n",
            "4\n",
            "6\n",
            "8\n"
          ]
        }
      ],
      "source": [
        "for i in range(2, 10, 2):\n",
        "    print(i, end=\"\\n\")"
      ]
    },
    {
      "cell_type": "code",
      "execution_count": null,
      "metadata": {
        "id": "0siOxWwaJktB",
        "outputId": "29b2fc73-a4e5-4433-ae36-d74f95e81834"
      },
      "outputs": [
        {
          "name": "stdout",
          "output_type": "stream",
          "text": [
            "0 1 2 3 4 5 "
          ]
        }
      ],
      "source": [
        "for i in range(10):\n",
        "    print(i, end=\" \")\n",
        "    if i == 5:\n",
        "        break"
      ]
    },
    {
      "cell_type": "code",
      "execution_count": null,
      "metadata": {
        "id": "M0V6IR9pJktE",
        "outputId": "bd57a31e-486b-4d7e-ea32-9a9ce7c4ddca"
      },
      "outputs": [
        {
          "name": "stdout",
          "output_type": "stream",
          "text": [
            "0 1 2 3 4 6 7 8 9 "
          ]
        }
      ],
      "source": [
        "for i in range(10):\n",
        "    if i == 5:\n",
        "        continue\n",
        "    print(i, end=\" \")"
      ]
    },
    {
      "cell_type": "code",
      "execution_count": null,
      "metadata": {
        "id": "g0v7IX64JktG",
        "outputId": "324ca8bf-34bb-45ce-86b8-32a66dfa0297"
      },
      "outputs": [
        {
          "name": "stdout",
          "output_type": "stream",
          "text": [
            "0 1 2 3 4 5 6 7 8 9 "
          ]
        }
      ],
      "source": [
        "for i in range(10):\n",
        "    if i == 5:\n",
        "        pass\n",
        "    print(i, end=\" \")"
      ]
    },
    {
      "cell_type": "code",
      "execution_count": null,
      "metadata": {
        "id": "ZDm4QzVxJktH",
        "outputId": "c9d73f13-192a-488b-c9f9-36f399751627"
      },
      "outputs": [
        {
          "name": "stdin",
          "output_type": "stream",
          "text": [
            "Kullanıcı adınız: \n",
            "Şifreniz: test\n"
          ]
        },
        {
          "name": "stdout",
          "output_type": "stream",
          "text": [
            "Kullanıcı adı alanı boş olamaz!\n",
            "******************************\n"
          ]
        },
        {
          "name": "stdin",
          "output_type": "stream",
          "text": [
            "Kullanıcı adınız: test\n",
            "Şifreniz: \n"
          ]
        },
        {
          "name": "stdout",
          "output_type": "stream",
          "text": [
            "Şifre alanı boş olamaz!\n",
            "******************************\n"
          ]
        },
        {
          "name": "stdin",
          "output_type": "stream",
          "text": [
            "Kullanıcı adınız: a\n",
            "Şifreniz: a\n"
          ]
        },
        {
          "name": "stdout",
          "output_type": "stream",
          "text": [
            "Kullanıcı adı veya şifre yanlış!\n",
            "******************************\n"
          ]
        },
        {
          "name": "stdin",
          "output_type": "stream",
          "text": [
            "Kullanıcı adınız: break\n",
            "Şifreniz: break\n"
          ]
        },
        {
          "name": "stdout",
          "output_type": "stream",
          "text": [
            "Kullanıcı adı veya şifre yanlış!\n",
            "******************************\n"
          ]
        },
        {
          "name": "stdin",
          "output_type": "stream",
          "text": [
            "Kullanıcı adınız: test\n",
            "Şifreniz: test\n"
          ]
        },
        {
          "name": "stdout",
          "output_type": "stream",
          "text": [
            "Giriş başarılı!\n"
          ]
        }
      ],
      "source": [
        "gerçek_kullanıcı = \"test\"\n",
        "gerçek_şifre = \"test\"\n",
        "\n",
        "while True:\n",
        "    sorulan_kullanıcı = input(\"Kullanıcı adınız:\")\n",
        "    sorulan_şifre = input(\"Şifreniz:\")\n",
        "\n",
        "    if gerçek_şifre == sorulan_şifre and gerçek_kullanıcı == sorulan_kullanıcı:\n",
        "        print(\"Giriş başarılı!\")\n",
        "        break\n",
        "    elif not sorulan_kullanıcı:\n",
        "        print(\"Kullanıcı adı alanı boş olamaz!\")\n",
        "    elif not sorulan_şifre:\n",
        "        print(\"Şifre alanı boş olamaz!\")\n",
        "    else:\n",
        "        print(\"Kullanıcı adı veya şifre yanlış!\")\n",
        "\n",
        "    print(\"*\"*30)"
      ]
    },
    {
      "cell_type": "markdown",
      "metadata": {
        "id": "ybZhmq0MJktI"
      },
      "source": [
        "___\n",
        "## Exception Handling; Try/Except/Finally"
      ]
    },
    {
      "cell_type": "markdown",
      "metadata": {
        "id": "73JXTr5QJktI"
      },
      "source": [
        "|Error Name| Description|\n",
        "| --------------------------------------|:----------------------:|\n",
        "|AssertionError|Raised when the assert statement fails.|\n",
        "|AttributeError|Raised on the attribute assignment or reference fails.|\n",
        "|EOFError|Raised when the input() function hits the end-of-file condition.|\n",
        "|FloatingPointError|Raised when a floating point operation fails.|\n",
        "|GeneratorExit|Raised when a generator's close() method is called.|\n",
        "|ImportError|Raised when the imported module is not found.|\n",
        "|IndexError|Raised when the index of a sequence is out of range.|\n",
        "|KeyError|Raised when a key is not found in a dictionary.|\n",
        "|KeyboardInterrupt|Raised when the user hits the interrupt key (Ctrl+c or delete).|\n",
        "|MemoryError|Raised when an operation runs out of memory.|\n",
        "|NameError|Raised when a variable is not found in the local or global scope.|\n",
        "|NotImplementedError|Raised by abstract methods.|\n",
        "|OSError|Raised when a system operation causes a system-related error.|\n",
        "|OverflowError|Raised when the result of an arithmetic operation is too large to be represented.|\n",
        "|ReferenceError|Raised when a weak reference proxy is used to access a garbage collected referent.|\n",
        "|RuntimeError|Raised when an error does not fall under any other category.|\n",
        "|StopIteration|Raised by the next() function to indicate that there is no further item to be returned by the iterator.|\n",
        "|SyntaxError|Raised by the parser when a syntax error is encountered.|\n",
        "|IndentationError|Raised when there is an incorrect indentation.|\n",
        "|TabError|Raised when the indentation consists of inconsistent tabs and spaces.|\n",
        "|SystemError|Raised when the interpreter detects internal error.|\n",
        "|SystemExit|Raised by the sys.exit() function.|\n",
        "|TypeError|Raised when a function or operation is applied to an object of an incorrect type.|\n",
        "|UnboundLocalError|Raised when a reference is made to a local variable in a function or method, but no value has been bound to that variable.|\n",
        "|UnicodeError|Raised when a Unicode-related encoding or decoding error occurs.|\n",
        "|UnicodeEncodeError|Raised when a Unicode-related error occurs during encoding.|\n",
        "|UnicodeDecodeError|Raised when a Unicode-related error occurs during decoding.|\n",
        "|UnicodeTranslateError|Raised when a Unicode-related error occurs during translation.|\n",
        "|ValueError|Raised when a function gets an argument of correct type but improper value.|\n",
        "|ZeroDivisionError|Raised when the second operand of a division or module operation is zero.|"
      ]
    },
    {
      "cell_type": "code",
      "execution_count": null,
      "metadata": {
        "id": "p0ldUImfJktJ",
        "outputId": "36be5cc5-db95-47ce-cca9-b8b33902e7b2"
      },
      "outputs": [
        {
          "name": "stdout",
          "output_type": "stream",
          "text": [
            "Bir hata meydana geldi!\n"
          ]
        }
      ],
      "source": [
        "try:\n",
        "    sayı1 = int(input(\"Bölünecek sayıyı giriniz:\"))\n",
        "    sayı2 = int(input(\"Bölecek sayıyı giriniz:\"))\n",
        "    sonuc = sayı1 / sayı2\n",
        "    print(sonuc)\n",
        "\n",
        "except:\n",
        "    print(\"Bir hata meydana geldi!\")"
      ]
    },
    {
      "cell_type": "code",
      "execution_count": null,
      "metadata": {
        "id": "_29AMcL4JktK",
        "outputId": "7aa2d2a0-56eb-4534-a320-baa61ec8d768"
      },
      "outputs": [
        {
          "name": "stdin",
          "output_type": "stream",
          "text": [
            "Yaşınızı girin: -10\n"
          ]
        },
        {
          "ename": "Exception",
          "evalue": "Yaşınız negatif bir sayı olamaz!",
          "output_type": "error",
          "traceback": [
            "\u001b[0;31m---------------------------------------------------------------------------\u001b[0m",
            "\u001b[0;31mException\u001b[0m                                 Traceback (most recent call last)",
            "\u001b[0;32m<ipython-input-121-514347576ca1>\u001b[0m in \u001b[0;36m<module>\u001b[0;34m\u001b[0m\n\u001b[1;32m      1\u001b[0m \u001b[0myaş\u001b[0m \u001b[0;34m=\u001b[0m \u001b[0mint\u001b[0m\u001b[0;34m(\u001b[0m\u001b[0minput\u001b[0m\u001b[0;34m(\u001b[0m\u001b[0;34m\"Yaşınızı girin:\"\u001b[0m\u001b[0;34m)\u001b[0m\u001b[0;34m)\u001b[0m\u001b[0;34m\u001b[0m\u001b[0;34m\u001b[0m\u001b[0m\n\u001b[1;32m      2\u001b[0m \u001b[0;32mif\u001b[0m \u001b[0myaş\u001b[0m \u001b[0;34m<\u001b[0m \u001b[0;36m0\u001b[0m\u001b[0;34m:\u001b[0m\u001b[0;34m\u001b[0m\u001b[0;34m\u001b[0m\u001b[0m\n\u001b[0;32m----> 3\u001b[0;31m     \u001b[0;32mraise\u001b[0m \u001b[0mException\u001b[0m\u001b[0;34m(\u001b[0m\u001b[0;34m\"Yaşınız negatif bir sayı olamaz!\"\u001b[0m\u001b[0;34m)\u001b[0m\u001b[0;34m\u001b[0m\u001b[0;34m\u001b[0m\u001b[0m\n\u001b[0m\u001b[1;32m      4\u001b[0m \u001b[0mprint\u001b[0m\u001b[0;34m(\u001b[0m\u001b[0myaş\u001b[0m\u001b[0;34m)\u001b[0m\u001b[0;34m\u001b[0m\u001b[0;34m\u001b[0m\u001b[0m\n",
            "\u001b[0;31mException\u001b[0m: Yaşınız negatif bir sayı olamaz!"
          ]
        }
      ],
      "source": [
        "yaş = int(input(\"Yaşınızı girin:\"))\n",
        "if yaş < 0:\n",
        "    raise Exception(\"Yaşınız negatif bir sayı olamaz!\")\n",
        "print(yaş)"
      ]
    },
    {
      "cell_type": "markdown",
      "metadata": {
        "id": "R2cdGsXhJktM"
      },
      "source": [
        "## Lists and Tuples"
      ]
    },
    {
      "cell_type": "code",
      "execution_count": null,
      "metadata": {
        "id": "0c-YarJsJktM",
        "scrolled": true,
        "outputId": "fd776874-190a-4946-e527-628fc8f30ff1"
      },
      "outputs": [
        {
          "name": "stdout",
          "output_type": "stream",
          "text": [
            "[] 0\n",
            "[10] 1\n",
            "[10, 20, 30, 40] 4\n"
          ]
        }
      ],
      "source": [
        "liste1 = []\n",
        "liste1 = list()\n",
        "print(liste1, len(liste1))\n",
        "\n",
        "liste1.append(10)\n",
        "print(liste1, len(liste1))\n",
        "\n",
        "liste1.append(20)\n",
        "liste1.append(30)\n",
        "liste1.append(40)\n",
        "print(liste1, len(liste1))"
      ]
    },
    {
      "cell_type": "code",
      "execution_count": null,
      "metadata": {
        "id": "85ZD6NSGJktN",
        "outputId": "743dd67b-0a49-47f7-c1f6-aedb359d8073"
      },
      "outputs": [
        {
          "name": "stdout",
          "output_type": "stream",
          "text": [
            "10\n",
            "30\n",
            "40\n",
            "[40, 30, 20, 10]\n"
          ]
        }
      ],
      "source": [
        "print(liste1[0])\n",
        "print(liste1[2])\n",
        "print(liste1[-1])\n",
        "\n",
        "#liste[başlangıç: bitiş: artış]\n",
        "print(liste1[::-1])"
      ]
    },
    {
      "cell_type": "code",
      "execution_count": null,
      "metadata": {
        "id": "GV9zQUhzJktO",
        "outputId": "9a6a7270-f14e-4d30-ee36-c7ffed200256"
      },
      "outputs": [
        {
          "name": "stdout",
          "output_type": "stream",
          "text": [
            "[99, 10, 20, 30, 40, 100]\n"
          ]
        }
      ],
      "source": [
        "liste1.insert(5, 100)\n",
        "print(liste1)"
      ]
    },
    {
      "cell_type": "code",
      "execution_count": null,
      "metadata": {
        "id": "iswTCZO_JktP",
        "outputId": "2bda5a7a-2c9c-41aa-b344-f36158a3d936"
      },
      "outputs": [
        {
          "name": "stdout",
          "output_type": "stream",
          "text": [
            "[99, 10, 20, 30, 40]\n"
          ]
        }
      ],
      "source": [
        "liste1.pop()\n",
        "print(liste1)"
      ]
    },
    {
      "cell_type": "code",
      "execution_count": null,
      "metadata": {
        "id": "qmDW_vdVJktR",
        "outputId": "4a7e9f6a-021f-410d-d023-31e81dd0cd01"
      },
      "outputs": [
        {
          "name": "stdout",
          "output_type": "stream",
          "text": [
            "[10, 20, 30, 40] 99\n"
          ]
        }
      ],
      "source": [
        "silinen = liste1.pop(0)\n",
        "print(liste1, silinen)"
      ]
    },
    {
      "cell_type": "code",
      "execution_count": null,
      "metadata": {
        "id": "Blji52wAJktR",
        "outputId": "e8fa34b8-b816-4913-f24d-cf8030e4ba2b"
      },
      "outputs": [
        {
          "name": "stdout",
          "output_type": "stream",
          "text": [
            "[10, 20, 40]\n"
          ]
        }
      ],
      "source": [
        "liste1.remove(30)\n",
        "print(liste1)"
      ]
    },
    {
      "cell_type": "code",
      "execution_count": null,
      "metadata": {
        "id": "nFIyZkc6JktS",
        "outputId": "ff517de6-dc57-4dd3-cd98-10cc6886479d"
      },
      "outputs": [
        {
          "name": "stdout",
          "output_type": "stream",
          "text": [
            "[2, 0, 1, 7] [4, 3, 2, 8]\n",
            "[2, 0, 1, 7, 4, 3, 2, 8]\n"
          ]
        }
      ],
      "source": [
        "liste1 = [2, 0, 1, 7]\n",
        "liste2 = [4, 3, 2, 8]\n",
        "print(liste1, liste2)\n",
        "\n",
        "liste1.extend(liste2)\n",
        "print(liste1)"
      ]
    },
    {
      "cell_type": "code",
      "execution_count": null,
      "metadata": {
        "id": "mtY-opU2JktT",
        "outputId": "8935224e-9677-42cf-91b4-67cb64956f01"
      },
      "outputs": [
        {
          "name": "stdout",
          "output_type": "stream",
          "text": [
            "[0, 1, 2, 2, 3, 4, 7, 8]\n"
          ]
        }
      ],
      "source": [
        "liste1 = sorted(liste1)\n",
        "print(liste1)"
      ]
    },
    {
      "cell_type": "code",
      "execution_count": null,
      "metadata": {
        "id": "iWKGSMNrJktX"
      },
      "outputs": [],
      "source": [
        "liste1.sort()\n",
        "print(liste1)"
      ]
    },
    {
      "cell_type": "code",
      "execution_count": null,
      "metadata": {
        "id": "ZiU2q5dkJktY",
        "outputId": "84929f30-dd9f-47bb-b86b-94f264834577"
      },
      "outputs": [
        {
          "name": "stdin",
          "output_type": "stream",
          "text": [
            "Aranacak kelime: Tilki\n"
          ]
        },
        {
          "name": "stdout",
          "output_type": "stream",
          "text": [
            "2\n"
          ]
        }
      ],
      "source": [
        "liste1 = [\"Elma\", \"Armut\", \"Tilki\", \"Kuş\", \"Armut\", \"Çiçek\"]\n",
        "index = liste1.index(input(\"Aranacak kelime:\"))\n",
        "print(index)"
      ]
    },
    {
      "cell_type": "code",
      "execution_count": null,
      "metadata": {
        "id": "7NIlPY-fJktZ",
        "outputId": "e2141299-7d69-452a-b39e-2d0c87c1e6a2"
      },
      "outputs": [
        {
          "name": "stdin",
          "output_type": "stream",
          "text": [
            "Sayısını bulunacak kelime: Armut\n"
          ]
        },
        {
          "name": "stdout",
          "output_type": "stream",
          "text": [
            "2\n"
          ]
        }
      ],
      "source": [
        "liste1 = [\"Elma\", \"Armut\", \"Tilki\", \"Kuş\", \"Armut\", \"Çiçek\"]\n",
        "sayaç = liste1.count(input(\"Sayısını bulunacak kelime:\"))\n",
        "print(sayaç)"
      ]
    },
    {
      "cell_type": "code",
      "execution_count": null,
      "metadata": {
        "id": "P73rgRh5Jkta",
        "outputId": "b2d643c8-2a76-4388-c756-7a1b2047dbd3"
      },
      "outputs": [
        {
          "name": "stdout",
          "output_type": "stream",
          "text": [
            "['Elma', 'Armut', 'Tilki', 'Kuş', 'Armut', 'Çiçek']\n"
          ]
        }
      ],
      "source": [
        "yeni_liste = liste1\n",
        "print(yeni_liste)"
      ]
    },
    {
      "cell_type": "code",
      "execution_count": null,
      "metadata": {
        "id": "G3pXgkgfJktb",
        "outputId": "1be3b20a-7fdf-454b-c915-5194b92e887a"
      },
      "outputs": [
        {
          "name": "stdout",
          "output_type": "stream",
          "text": [
            "['Muz', 'Armut', 'Tilki', 'Kuş', 'Armut', 'Çiçek']\n",
            "['Muz', 'Armut', 'Tilki', 'Kuş', 'Armut', 'Çiçek']\n",
            "4608013312\n",
            "4608013312\n"
          ]
        }
      ],
      "source": [
        "yeni_liste[0] = \"Muz\"\n",
        "print(yeni_liste)\n",
        "print(liste1)\n",
        "\n",
        "print(id(yeni_liste))\n",
        "print(id(liste1))"
      ]
    },
    {
      "cell_type": "code",
      "execution_count": null,
      "metadata": {
        "id": "OfbK-RcJJktc"
      },
      "outputs": [],
      "source": [
        "liste1 = [\"Elma\", \"Armut\", \"Tilki\", \"Kuş\", \"Armut\", \"Çiçek\"]\n",
        "yeni_liste = liste1.copy()"
      ]
    },
    {
      "cell_type": "code",
      "execution_count": null,
      "metadata": {
        "id": "82GNZr_pJktd",
        "outputId": "7b9604af-8daf-4072-e10c-d869a7eae0d4"
      },
      "outputs": [
        {
          "name": "stdout",
          "output_type": "stream",
          "text": [
            "['Muz', 'Armut', 'Tilki', 'Kuş', 'Armut', 'Çiçek']\n",
            "['Elma', 'Armut', 'Tilki', 'Kuş', 'Armut', 'Çiçek']\n",
            "4608034880\n",
            "4582043264\n"
          ]
        }
      ],
      "source": [
        "yeni_liste[0] = \"Muz\"\n",
        "print(yeni_liste)\n",
        "print(liste1)\n",
        "\n",
        "print(id(yeni_liste))\n",
        "print(id(liste1))"
      ]
    },
    {
      "cell_type": "code",
      "execution_count": null,
      "metadata": {
        "id": "Gwn-FJsGJkte"
      },
      "outputs": [],
      "source": [
        "liste3 = [\"John\", 1, \"Doe\", 2.56, \"Oğuz\", (55+5j), \"ATAY\"]"
      ]
    },
    {
      "cell_type": "code",
      "execution_count": null,
      "metadata": {
        "id": "llU04U0DJktf",
        "outputId": "d0bed2d0-c82b-42c7-b00b-d6e37afb629a"
      },
      "outputs": [
        {
          "name": "stdout",
          "output_type": "stream",
          "text": [
            "John <class 'str'>\n",
            "1 <class 'int'>\n",
            "Doe <class 'str'>\n",
            "2.56 <class 'float'>\n",
            "Oğuz <class 'str'>\n",
            "(55+5j) <class 'complex'>\n",
            "ATAY <class 'str'>\n"
          ]
        }
      ],
      "source": [
        "for i in liste3:\n",
        "    print(i, type(i))"
      ]
    },
    {
      "cell_type": "code",
      "execution_count": null,
      "metadata": {
        "id": "LPNLqjqJJktg",
        "outputId": "82203419-5936-4f69-8ff7-678475b96f2f"
      },
      "outputs": [
        {
          "name": "stdout",
          "output_type": "stream",
          "text": [
            "1 2 3 4 \n",
            "9 8 7 6 \n",
            "0 6 5 2 \n"
          ]
        }
      ],
      "source": [
        "matrix = [\n",
        "    [1, 2, 3, 4],\n",
        "    [9, 8, 7, 6],\n",
        "    [0, 6, 5, 2]\n",
        "]\n",
        "\n",
        "for satır in matrix:\n",
        "    for sütun in satır:\n",
        "        print(sütun, end=\" \")\n",
        "    print()"
      ]
    },
    {
      "cell_type": "code",
      "execution_count": null,
      "metadata": {
        "id": "5DymGnTAJkth",
        "scrolled": true,
        "outputId": "2c2f813c-33d5-43f2-ccac-1f944207ea59"
      },
      "outputs": [
        {
          "name": "stdout",
          "output_type": "stream",
          "text": [
            "2\n",
            "1\n",
            "Help on tuple object:\n",
            "\n",
            "class tuple(object)\n",
            " |  tuple(iterable=(), /)\n",
            " |  \n",
            " |  Built-in immutable sequence.\n",
            " |  \n",
            " |  If no argument is given, the constructor returns an empty tuple.\n",
            " |  If iterable is specified the tuple is initialized from iterable's items.\n",
            " |  \n",
            " |  If the argument is a tuple, the return value is the same object.\n",
            " |  \n",
            " |  Built-in subclasses:\n",
            " |      asyncgen_hooks\n",
            " |      UnraisableHookArgs\n",
            " |  \n",
            " |  Methods defined here:\n",
            " |  \n",
            " |  __add__(self, value, /)\n",
            " |      Return self+value.\n",
            " |  \n",
            " |  __contains__(self, key, /)\n",
            " |      Return key in self.\n",
            " |  \n",
            " |  __eq__(self, value, /)\n",
            " |      Return self==value.\n",
            " |  \n",
            " |  __ge__(self, value, /)\n",
            " |      Return self>=value.\n",
            " |  \n",
            " |  __getattribute__(self, name, /)\n",
            " |      Return getattr(self, name).\n",
            " |  \n",
            " |  __getitem__(self, key, /)\n",
            " |      Return self[key].\n",
            " |  \n",
            " |  __getnewargs__(self, /)\n",
            " |  \n",
            " |  __gt__(self, value, /)\n",
            " |      Return self>value.\n",
            " |  \n",
            " |  __hash__(self, /)\n",
            " |      Return hash(self).\n",
            " |  \n",
            " |  __iter__(self, /)\n",
            " |      Implement iter(self).\n",
            " |  \n",
            " |  __le__(self, value, /)\n",
            " |      Return self<=value.\n",
            " |  \n",
            " |  __len__(self, /)\n",
            " |      Return len(self).\n",
            " |  \n",
            " |  __lt__(self, value, /)\n",
            " |      Return self<value.\n",
            " |  \n",
            " |  __mul__(self, value, /)\n",
            " |      Return self*value.\n",
            " |  \n",
            " |  __ne__(self, value, /)\n",
            " |      Return self!=value.\n",
            " |  \n",
            " |  __repr__(self, /)\n",
            " |      Return repr(self).\n",
            " |  \n",
            " |  __rmul__(self, value, /)\n",
            " |      Return value*self.\n",
            " |  \n",
            " |  count(self, value, /)\n",
            " |      Return number of occurrences of value.\n",
            " |  \n",
            " |  index(self, value, start=0, stop=9223372036854775807, /)\n",
            " |      Return first index of value.\n",
            " |      \n",
            " |      Raises ValueError if the value is not present.\n",
            " |  \n",
            " |  ----------------------------------------------------------------------\n",
            " |  Static methods defined here:\n",
            " |  \n",
            " |  __new__(*args, **kwargs) from builtins.type\n",
            " |      Create and return a new object.  See help(type) for accurate signature.\n",
            "\n"
          ]
        }
      ],
      "source": [
        "demet = ()\n",
        "demet = tuple()\n",
        "demet = (10, 20, 25, 30, 35, 40, 35)\n",
        "\n",
        "index = demet.index(25)\n",
        "print(index)\n",
        "\n",
        "sayaç = demet.count(20)\n",
        "print(sayaç)\n",
        "\n",
        "help(tuple())"
      ]
    },
    {
      "cell_type": "markdown",
      "metadata": {
        "id": "sip1s0KPJkth"
      },
      "source": [
        "### Mathematical Functions"
      ]
    },
    {
      "cell_type": "code",
      "execution_count": null,
      "metadata": {
        "id": "lAbjCA7PJkti",
        "outputId": "68979fe2-dc77-4783-b5bc-761592ad367b"
      },
      "outputs": [
        {
          "name": "stdout",
          "output_type": "stream",
          "text": [
            "10\n",
            "(2, 6)\n"
          ]
        }
      ],
      "source": [
        "abs_number = abs(-10)\n",
        "print(abs_number)\n",
        "\n",
        "divmod_number = divmod(20, 7)\n",
        "print(divmod_number)\n",
        "# 20 // 7, 20 % 7"
      ]
    },
    {
      "cell_type": "code",
      "execution_count": null,
      "metadata": {
        "id": "kFV9DgO5Jktk",
        "outputId": "ec3e40b3-cfdc-4d33-aada-4de7938069bf"
      },
      "outputs": [
        {
          "name": "stdout",
          "output_type": "stream",
          "text": [
            "[1, 3, -1, -9, 6, -3, -6, -5, -8, 9, -9, -10, 1, -4, 10]\n"
          ]
        }
      ],
      "source": [
        "from random import randint\n",
        "\n",
        "sayı_listesi = []\n",
        "for i in range(15):\n",
        "    sayı_listesi.append(randint(-10, 10))\n",
        "\n",
        "print(sayı_listesi)"
      ]
    },
    {
      "cell_type": "code",
      "execution_count": null,
      "metadata": {
        "id": "-GV1Uph2Jktl",
        "outputId": "6c0c58ac-24ae-4d8a-a3f5-9f544793acec"
      },
      "outputs": [
        {
          "name": "stdout",
          "output_type": "stream",
          "text": [
            "Liste: [1, 3, -1, -9, 6, -3, -6, -5, -8, 9, -9, -10, 1, -4, 10]\n",
            "max() fonksiyonunun çıktısı => 10\n",
            "min() fonksiyonunun çıktısı => -10\n",
            "sum() fonksiyonunun çıktısı => -25\n"
          ]
        }
      ],
      "source": [
        "string = \"{} fonksiyonunun çıktısı => {}\"\n",
        "\n",
        "print(\"Liste: {}\".format(sayı_listesi))\n",
        "print(string.format(\"max()\", max(sayı_listesi)))\n",
        "print(string.format(\"min()\", min(sayı_listesi)))\n",
        "print(string.format(\"sum()\", sum(sayı_listesi)))"
      ]
    },
    {
      "cell_type": "markdown",
      "metadata": {
        "id": "9whjWWUdJktn"
      },
      "source": [
        "## Dictionaries"
      ]
    },
    {
      "cell_type": "code",
      "execution_count": null,
      "metadata": {
        "id": "X6fvhH0_Jktn",
        "outputId": "e39cdbd7-c5e3-4d3f-ecdc-429daac6340a"
      },
      "outputs": [
        {
          "name": "stdout",
          "output_type": "stream",
          "text": [
            "{'Elma': 'Apple', 'Armut': 'Pear', 'Tilki': 'Fox'}\n"
          ]
        }
      ],
      "source": [
        "sozluk = {}\n",
        "sozluk = dict()\n",
        "\n",
        "sozluk['Elma'] = 'Apple'\n",
        "sozluk['Armut'] = 'Pear'\n",
        "sozluk['Tilki'] = 'Fox'\n",
        "\n",
        "print(sozluk)"
      ]
    },
    {
      "cell_type": "code",
      "execution_count": null,
      "metadata": {
        "id": "YxJd-yx4Jktp",
        "outputId": "57aa0a30-c0d3-48ca-dfdb-69f627deff1a"
      },
      "outputs": [
        {
          "name": "stdout",
          "output_type": "stream",
          "text": [
            "dict_keys(['Elma', 'Armut', 'Tilki'])\n",
            "dict_values(['Apple', 'Pear', 'Fox'])\n"
          ]
        }
      ],
      "source": [
        "sozluk_keys = sozluk.keys()\n",
        "print(sozluk_keys)\n",
        "\n",
        "sozluk_values = sozluk.values()\n",
        "print(sozluk_values)"
      ]
    },
    {
      "cell_type": "code",
      "execution_count": null,
      "metadata": {
        "id": "eLn08kZQJktq",
        "outputId": "c442a576-a9b6-404e-a66b-a8c028802e2e"
      },
      "outputs": [
        {
          "name": "stdout",
          "output_type": "stream",
          "text": [
            "dict_items([('Elma', 'Apple'), ('Armut', 'Pear'), ('Tilki', 'Fox')])\n",
            "Elma Apple\n",
            "Armut Pear\n",
            "Tilki Fox\n"
          ]
        }
      ],
      "source": [
        "\"\"\"\n",
        "for key in sozluk.keys():\n",
        "    pass\n",
        "\n",
        "for value in sozluk.values():\n",
        "    pass\n",
        "\"\"\"\n",
        "print(sozluk.items())\n",
        "for key, value in sozluk.items():\n",
        "    print(key, value)"
      ]
    },
    {
      "cell_type": "code",
      "execution_count": null,
      "metadata": {
        "id": "lXG5JnSTJktr",
        "outputId": "5f7e4ec5-01a9-4202-e560-5f25738ced2f"
      },
      "outputs": [
        {
          "name": "stdout",
          "output_type": "stream",
          "text": [
            "Pear\n"
          ]
        },
        {
          "ename": "KeyError",
          "evalue": "'Üzüm'",
          "output_type": "error",
          "traceback": [
            "\u001b[0;31m---------------------------------------------------------------------------\u001b[0m",
            "\u001b[0;31mKeyError\u001b[0m                                  Traceback (most recent call last)",
            "\u001b[0;32m<ipython-input-153-7a29f718c7cd>\u001b[0m in \u001b[0;36m<module>\u001b[0;34m\u001b[0m\n\u001b[1;32m      1\u001b[0m \u001b[0mprint\u001b[0m\u001b[0;34m(\u001b[0m\u001b[0msozluk\u001b[0m\u001b[0;34m[\u001b[0m\u001b[0;34m'Armut'\u001b[0m\u001b[0;34m]\u001b[0m\u001b[0;34m)\u001b[0m\u001b[0;34m\u001b[0m\u001b[0;34m\u001b[0m\u001b[0m\n\u001b[0;32m----> 2\u001b[0;31m \u001b[0mprint\u001b[0m\u001b[0;34m(\u001b[0m\u001b[0msozluk\u001b[0m\u001b[0;34m[\u001b[0m\u001b[0;34m'Üzüm'\u001b[0m\u001b[0;34m]\u001b[0m\u001b[0;34m)\u001b[0m\u001b[0;34m\u001b[0m\u001b[0;34m\u001b[0m\u001b[0m\n\u001b[0m",
            "\u001b[0;31mKeyError\u001b[0m: 'Üzüm'"
          ]
        }
      ],
      "source": [
        "print(sozluk['Armut'])\n",
        "print(sozluk['Üzüm'])"
      ]
    },
    {
      "cell_type": "code",
      "execution_count": null,
      "metadata": {
        "id": "zuETRKKKJktr",
        "outputId": "7f067fa7-ad1e-46fc-def2-e5b4fc9bc349"
      },
      "outputs": [
        {
          "name": "stdout",
          "output_type": "stream",
          "text": [
            "None\n"
          ]
        }
      ],
      "source": [
        "print(sozluk.get('ÜzümÜ'))"
      ]
    },
    {
      "cell_type": "code",
      "execution_count": null,
      "metadata": {
        "id": "vq5Nm1vMJktt",
        "outputId": "0039168d-5dbb-4128-f6bc-d9e02299b199"
      },
      "outputs": [
        {
          "data": {
            "text/plain": [
              "'Apple'"
            ]
          },
          "execution_count": 156,
          "metadata": {},
          "output_type": "execute_result"
        }
      ],
      "source": [
        "sozluk.setdefault('Elma', 'Malus')"
      ]
    },
    {
      "cell_type": "code",
      "execution_count": null,
      "metadata": {
        "id": "pRETlCp_Jktt",
        "outputId": "c50c1ee2-e143-4929-9402-001a821d1876"
      },
      "outputs": [
        {
          "data": {
            "text/plain": [
              "'Grape'"
            ]
          },
          "execution_count": 159,
          "metadata": {},
          "output_type": "execute_result"
        }
      ],
      "source": [
        "sozluk.setdefault('Üzüm', 'Grape')\n"
      ]
    },
    {
      "cell_type": "markdown",
      "metadata": {
        "id": "vcwht9vhJktw"
      },
      "source": [
        "## Sets and Frozensets"
      ]
    },
    {
      "cell_type": "code",
      "execution_count": null,
      "metadata": {
        "id": "ADdrGsvcJktw",
        "outputId": "9d117e22-520a-4e51-9f64-456131f3f513"
      },
      "outputs": [
        {
          "name": "stdout",
          "output_type": "stream",
          "text": [
            "{1, 2, 3}\n"
          ]
        }
      ],
      "source": [
        "küme = set()\n",
        "\n",
        "küme.add(1)\n",
        "küme.add(2)\n",
        "küme.add(3)\n",
        "küme.add(3)\n",
        "küme.add(3)\n",
        "küme.add(2)\n",
        "\n",
        "print(küme)"
      ]
    },
    {
      "cell_type": "code",
      "execution_count": null,
      "metadata": {
        "id": "g0IqVQc0Jktx",
        "outputId": "dbb354bf-d4a7-4ee2-c967-25aa821b11df"
      },
      "outputs": [
        {
          "name": "stdout",
          "output_type": "stream",
          "text": [
            "{0, 1, 2, 3, 4, 5, 10, 12}\n"
          ]
        }
      ],
      "source": [
        "liste = [10, 12, 1, 0, 2, 3, 4, 4, 2, 3, 0, 2, 1, 5]\n",
        "küme = set(liste)\n",
        "\n",
        "print(küme)"
      ]
    },
    {
      "cell_type": "code",
      "execution_count": null,
      "metadata": {
        "id": "BG4yCaSjJkty",
        "outputId": "675f8bea-3cf4-45e8-db8d-bc6041affba7"
      },
      "outputs": [
        {
          "name": "stdout",
          "output_type": "stream",
          "text": [
            "{0, 1, 2, 3, 4, 5, 12}\n"
          ]
        }
      ],
      "source": [
        "küme.remove(10)\n",
        "print(küme)"
      ]
    },
    {
      "cell_type": "code",
      "execution_count": null,
      "metadata": {
        "id": "mEKKQxVdJktz",
        "outputId": "3a267edb-c940-43d4-9dd3-c674098e8c8f"
      },
      "outputs": [
        {
          "name": "stdout",
          "output_type": "stream",
          "text": [
            "Kesişim kümesi:  {50, 30}\n",
            "Birleşim kümesi:  {100, 10, 50, 20, 90, 30}\n",
            "Küme1:  {10, 100, 50, 30}\n"
          ]
        }
      ],
      "source": [
        "liste1 = [10, 100, 50, 30]\n",
        "liste2 = [20, 50, 90, 30]\n",
        "\n",
        "küme1 = set(liste1)\n",
        "küme2 = set(liste2)\n",
        "\n",
        "print(\"Kesişim kümesi: \", küme1.intersection(küme2))\n",
        "print(\"Birleşim kümesi: \", küme1.union(küme2))\n",
        "print(\"Küme1: \", küme1)"
      ]
    },
    {
      "cell_type": "code",
      "execution_count": null,
      "metadata": {
        "id": "gl-dAUtPJkt0",
        "outputId": "68149602-cfee-415a-c984-eb5d119f9f24"
      },
      "outputs": [
        {
          "name": "stdout",
          "output_type": "stream",
          "text": [
            "Help on class list in module builtins:\n",
            "\n",
            "class list(object)\n",
            " |  list(iterable=(), /)\n",
            " |  \n",
            " |  Built-in mutable sequence.\n",
            " |  \n",
            " |  If no argument is given, the constructor creates a new empty list.\n",
            " |  The argument must be an iterable if specified.\n",
            " |  \n",
            " |  Methods defined here:\n",
            " |  \n",
            " |  __add__(self, value, /)\n",
            " |      Return self+value.\n",
            " |  \n",
            " |  __contains__(self, key, /)\n",
            " |      Return key in self.\n",
            " |  \n",
            " |  __delitem__(self, key, /)\n",
            " |      Delete self[key].\n",
            " |  \n",
            " |  __eq__(self, value, /)\n",
            " |      Return self==value.\n",
            " |  \n",
            " |  __ge__(self, value, /)\n",
            " |      Return self>=value.\n",
            " |  \n",
            " |  __getattribute__(self, name, /)\n",
            " |      Return getattr(self, name).\n",
            " |  \n",
            " |  __getitem__(...)\n",
            " |      x.__getitem__(y) <==> x[y]\n",
            " |  \n",
            " |  __gt__(self, value, /)\n",
            " |      Return self>value.\n",
            " |  \n",
            " |  __iadd__(self, value, /)\n",
            " |      Implement self+=value.\n",
            " |  \n",
            " |  __imul__(self, value, /)\n",
            " |      Implement self*=value.\n",
            " |  \n",
            " |  __init__(self, /, *args, **kwargs)\n",
            " |      Initialize self.  See help(type(self)) for accurate signature.\n",
            " |  \n",
            " |  __iter__(self, /)\n",
            " |      Implement iter(self).\n",
            " |  \n",
            " |  __le__(self, value, /)\n",
            " |      Return self<=value.\n",
            " |  \n",
            " |  __len__(self, /)\n",
            " |      Return len(self).\n",
            " |  \n",
            " |  __lt__(self, value, /)\n",
            " |      Return self<value.\n",
            " |  \n",
            " |  __mul__(self, value, /)\n",
            " |      Return self*value.\n",
            " |  \n",
            " |  __ne__(self, value, /)\n",
            " |      Return self!=value.\n",
            " |  \n",
            " |  __repr__(self, /)\n",
            " |      Return repr(self).\n",
            " |  \n",
            " |  __reversed__(self, /)\n",
            " |      Return a reverse iterator over the list.\n",
            " |  \n",
            " |  __rmul__(self, value, /)\n",
            " |      Return value*self.\n",
            " |  \n",
            " |  __setitem__(self, key, value, /)\n",
            " |      Set self[key] to value.\n",
            " |  \n",
            " |  __sizeof__(self, /)\n",
            " |      Return the size of the list in memory, in bytes.\n",
            " |  \n",
            " |  append(self, object, /)\n",
            " |      Append object to the end of the list.\n",
            " |  \n",
            " |  clear(self, /)\n",
            " |      Remove all items from list.\n",
            " |  \n",
            " |  copy(self, /)\n",
            " |      Return a shallow copy of the list.\n",
            " |  \n",
            " |  count(self, value, /)\n",
            " |      Return number of occurrences of value.\n",
            " |  \n",
            " |  extend(self, iterable, /)\n",
            " |      Extend list by appending elements from the iterable.\n",
            " |  \n",
            " |  index(self, value, start=0, stop=9223372036854775807, /)\n",
            " |      Return first index of value.\n",
            " |      \n",
            " |      Raises ValueError if the value is not present.\n",
            " |  \n",
            " |  insert(self, index, object, /)\n",
            " |      Insert object before index.\n",
            " |  \n",
            " |  pop(self, index=-1, /)\n",
            " |      Remove and return item at index (default last).\n",
            " |      \n",
            " |      Raises IndexError if list is empty or index is out of range.\n",
            " |  \n",
            " |  remove(self, value, /)\n",
            " |      Remove first occurrence of value.\n",
            " |      \n",
            " |      Raises ValueError if the value is not present.\n",
            " |  \n",
            " |  reverse(self, /)\n",
            " |      Reverse *IN PLACE*.\n",
            " |  \n",
            " |  sort(self, /, *, key=None, reverse=False)\n",
            " |      Sort the list in ascending order and return None.\n",
            " |      \n",
            " |      The sort is in-place (i.e. the list itself is modified) and stable (i.e. the\n",
            " |      order of two equal elements is maintained).\n",
            " |      \n",
            " |      If a key function is given, apply it once to each list item and sort them,\n",
            " |      ascending or descending, according to their function values.\n",
            " |      \n",
            " |      The reverse flag can be set to sort in descending order.\n",
            " |  \n",
            " |  ----------------------------------------------------------------------\n",
            " |  Static methods defined here:\n",
            " |  \n",
            " |  __new__(*args, **kwargs) from builtins.type\n",
            " |      Create and return a new object.  See help(type) for accurate signature.\n",
            " |  \n",
            " |  ----------------------------------------------------------------------\n",
            " |  Data and other attributes defined here:\n",
            " |  \n",
            " |  __hash__ = None\n",
            "\n"
          ]
        }
      ],
      "source": [
        "help(list)"
      ]
    },
    {
      "cell_type": "code",
      "execution_count": null,
      "metadata": {
        "id": "jD6ExYi1Jkt1",
        "outputId": "1b497302-bd70-4492-9e5f-0105b118aa17"
      },
      "outputs": [
        {
          "name": "stdout",
          "output_type": "stream",
          "text": [
            "(0, 'Ahmet') (1, 'Ayşe') (2, 'Binnur') (3, 'Fatma') (4, 'Mehmet') (5, 'Nuri')\n"
          ]
        }
      ],
      "source": [
        "liste = sorted([\"Ayşe\", \"Ahmet\",\"Mehmet\", \"Nuri\", \"Fatma\", \"Binnur\"])\n",
        "print(*enumerate(liste))"
      ]
    },
    {
      "cell_type": "code",
      "execution_count": null,
      "metadata": {
        "id": "gAvms22GJkt3",
        "outputId": "1cec108b-c06d-4d39-fe3a-627ea991f265"
      },
      "outputs": [
        {
          "name": "stdout",
          "output_type": "stream",
          "text": [
            "-5 Ahmet\n",
            "-4 Ayşe\n",
            "-3 Binnur\n",
            "-2 Fatma\n",
            "-1 Mehmet\n",
            "0 Nuri\n"
          ]
        }
      ],
      "source": [
        "for no, isim in enumerate(liste, -5):\n",
        "    print(no, isim)"
      ]
    },
    {
      "cell_type": "code",
      "execution_count": null,
      "metadata": {
        "id": "PUxB59PtJkt4",
        "outputId": "8f51c61d-ea3e-4386-ca34-a931e6806d94"
      },
      "outputs": [
        {
          "data": {
            "text/plain": [
              "['In',\n",
              " 'Out',\n",
              " '_',\n",
              " '_1',\n",
              " '_10',\n",
              " '_11',\n",
              " '_12',\n",
              " '_13',\n",
              " '_14',\n",
              " '_15',\n",
              " '_156',\n",
              " '_157',\n",
              " '_158',\n",
              " '_159',\n",
              " '_16',\n",
              " '_168',\n",
              " '_17',\n",
              " '_19',\n",
              " '_2',\n",
              " '_21',\n",
              " '_23',\n",
              " '_26',\n",
              " '_27',\n",
              " '_28',\n",
              " '_29',\n",
              " '_3',\n",
              " '_4',\n",
              " '_5',\n",
              " '_51',\n",
              " '_6',\n",
              " '_63',\n",
              " '_64',\n",
              " '_65',\n",
              " '_66',\n",
              " '_67',\n",
              " '_68',\n",
              " '_69',\n",
              " '_7',\n",
              " '_70',\n",
              " '_71',\n",
              " '_72',\n",
              " '_8',\n",
              " '_9',\n",
              " '_93',\n",
              " '__',\n",
              " '___',\n",
              " '__builtin__',\n",
              " '__builtins__',\n",
              " '__doc__',\n",
              " '__loader__',\n",
              " '__name__',\n",
              " '__package__',\n",
              " '__spec__',\n",
              " '_dh',\n",
              " '_i',\n",
              " '_i1',\n",
              " '_i10',\n",
              " '_i100',\n",
              " '_i101',\n",
              " '_i102',\n",
              " '_i103',\n",
              " '_i104',\n",
              " '_i105',\n",
              " '_i106',\n",
              " '_i107',\n",
              " '_i108',\n",
              " '_i109',\n",
              " '_i11',\n",
              " '_i110',\n",
              " '_i111',\n",
              " '_i112',\n",
              " '_i113',\n",
              " '_i114',\n",
              " '_i115',\n",
              " '_i116',\n",
              " '_i117',\n",
              " '_i118',\n",
              " '_i119',\n",
              " '_i12',\n",
              " '_i120',\n",
              " '_i121',\n",
              " '_i122',\n",
              " '_i123',\n",
              " '_i124',\n",
              " '_i125',\n",
              " '_i126',\n",
              " '_i127',\n",
              " '_i128',\n",
              " '_i129',\n",
              " '_i13',\n",
              " '_i130',\n",
              " '_i131',\n",
              " '_i132',\n",
              " '_i133',\n",
              " '_i134',\n",
              " '_i135',\n",
              " '_i136',\n",
              " '_i137',\n",
              " '_i138',\n",
              " '_i139',\n",
              " '_i14',\n",
              " '_i140',\n",
              " '_i141',\n",
              " '_i142',\n",
              " '_i143',\n",
              " '_i144',\n",
              " '_i145',\n",
              " '_i146',\n",
              " '_i147',\n",
              " '_i148',\n",
              " '_i149',\n",
              " '_i15',\n",
              " '_i150',\n",
              " '_i151',\n",
              " '_i152',\n",
              " '_i153',\n",
              " '_i154',\n",
              " '_i155',\n",
              " '_i156',\n",
              " '_i157',\n",
              " '_i158',\n",
              " '_i159',\n",
              " '_i16',\n",
              " '_i160',\n",
              " '_i161',\n",
              " '_i162',\n",
              " '_i163',\n",
              " '_i164',\n",
              " '_i165',\n",
              " '_i166',\n",
              " '_i167',\n",
              " '_i168',\n",
              " '_i169',\n",
              " '_i17',\n",
              " '_i18',\n",
              " '_i19',\n",
              " '_i2',\n",
              " '_i20',\n",
              " '_i21',\n",
              " '_i22',\n",
              " '_i23',\n",
              " '_i24',\n",
              " '_i25',\n",
              " '_i26',\n",
              " '_i27',\n",
              " '_i28',\n",
              " '_i29',\n",
              " '_i3',\n",
              " '_i30',\n",
              " '_i31',\n",
              " '_i32',\n",
              " '_i33',\n",
              " '_i34',\n",
              " '_i35',\n",
              " '_i36',\n",
              " '_i37',\n",
              " '_i38',\n",
              " '_i39',\n",
              " '_i4',\n",
              " '_i40',\n",
              " '_i41',\n",
              " '_i42',\n",
              " '_i43',\n",
              " '_i44',\n",
              " '_i45',\n",
              " '_i46',\n",
              " '_i47',\n",
              " '_i48',\n",
              " '_i49',\n",
              " '_i5',\n",
              " '_i50',\n",
              " '_i51',\n",
              " '_i52',\n",
              " '_i53',\n",
              " '_i54',\n",
              " '_i55',\n",
              " '_i56',\n",
              " '_i57',\n",
              " '_i58',\n",
              " '_i59',\n",
              " '_i6',\n",
              " '_i60',\n",
              " '_i61',\n",
              " '_i62',\n",
              " '_i63',\n",
              " '_i64',\n",
              " '_i65',\n",
              " '_i66',\n",
              " '_i67',\n",
              " '_i68',\n",
              " '_i69',\n",
              " '_i7',\n",
              " '_i70',\n",
              " '_i71',\n",
              " '_i72',\n",
              " '_i73',\n",
              " '_i74',\n",
              " '_i75',\n",
              " '_i76',\n",
              " '_i77',\n",
              " '_i78',\n",
              " '_i79',\n",
              " '_i8',\n",
              " '_i80',\n",
              " '_i81',\n",
              " '_i82',\n",
              " '_i83',\n",
              " '_i84',\n",
              " '_i85',\n",
              " '_i86',\n",
              " '_i87',\n",
              " '_i88',\n",
              " '_i89',\n",
              " '_i9',\n",
              " '_i90',\n",
              " '_i91',\n",
              " '_i92',\n",
              " '_i93',\n",
              " '_i94',\n",
              " '_i95',\n",
              " '_i96',\n",
              " '_i97',\n",
              " '_i98',\n",
              " '_i99',\n",
              " '_ih',\n",
              " '_ii',\n",
              " '_iii',\n",
              " '_oh',\n",
              " 'a',\n",
              " 'abs_number',\n",
              " 'aranacak_sözcük',\n",
              " 'cümle',\n",
              " 'demet',\n",
              " 'değişken1',\n",
              " 'değişken2',\n",
              " 'divmod_number',\n",
              " 'exit',\n",
              " 'f',\n",
              " 'gerçek_kullanıcı',\n",
              " 'gerçek_şifre',\n",
              " 'get_ipython',\n",
              " 'haftalık_çalışma_saati',\n",
              " 'harf',\n",
              " 'i',\n",
              " 'index',\n",
              " 'isim',\n",
              " 'key',\n",
              " 'keyword',\n",
              " 'küme',\n",
              " 'küme1',\n",
              " 'küme2',\n",
              " 'liste',\n",
              " 'liste1',\n",
              " 'liste2',\n",
              " 'liste3',\n",
              " 'matrix',\n",
              " 'no',\n",
              " 'password',\n",
              " 'quit',\n",
              " 'randint',\n",
              " 'saatlik_ücret',\n",
              " 'satır',\n",
              " 'sayaç',\n",
              " 'sayı1',\n",
              " 'sayı2',\n",
              " 'sayı_listesi',\n",
              " 'silinen',\n",
              " 'sorulan_kullanıcı',\n",
              " 'sorulan_şifre',\n",
              " 'sozluk',\n",
              " 'sozluk_keys',\n",
              " 'sozluk_values',\n",
              " 'string',\n",
              " 'sütun',\n",
              " 'username',\n",
              " 'value',\n",
              " 'yaş',\n",
              " 'yeni_liste']"
            ]
          },
          "execution_count": 169,
          "metadata": {},
          "output_type": "execute_result"
        }
      ],
      "source": [
        "dir()"
      ]
    },
    {
      "cell_type": "markdown",
      "metadata": {
        "id": "9xfzMHebJkt4"
      },
      "source": [
        "## String Methods"
      ]
    },
    {
      "cell_type": "code",
      "execution_count": null,
      "metadata": {
        "id": "RbUcubFiJkt5"
      },
      "outputs": [],
      "source": [
        "string = 'Hikmet ÖZBEN'"
      ]
    },
    {
      "cell_type": "code",
      "execution_count": null,
      "metadata": {
        "id": "11EJ2W5xJkt6",
        "outputId": "33df453b-3ba6-42b5-f14d-f3a45956c982"
      },
      "outputs": [
        {
          "name": "stdout",
          "output_type": "stream",
          "text": [
            "H\n"
          ]
        }
      ],
      "source": [
        "print(string[0])"
      ]
    },
    {
      "cell_type": "code",
      "execution_count": null,
      "metadata": {
        "id": "QHzrJbz-Jkt7",
        "outputId": "46cbcae7-8185-4ff0-b281-e14dad6d58a6"
      },
      "outputs": [
        {
          "name": "stdout",
          "output_type": "stream",
          "text": [
            "Hikm\n",
            "Hikmet ÖZBEN\n",
            "Hke ZE\n"
          ]
        }
      ],
      "source": [
        "print(string[0:4])\n",
        "print(string[0:len(string)])\n",
        "print(string[0:len(string):2])"
      ]
    },
    {
      "cell_type": "code",
      "execution_count": null,
      "metadata": {
        "id": "blONGE1PJkt_",
        "outputId": "075f1b07-868c-40ad-a84a-84c69bdbe18c"
      },
      "outputs": [
        {
          "name": "stdout",
          "output_type": "stream",
          "text": [
            "hikmet özben\n",
            "HIKMET ÖZBEN\n"
          ]
        }
      ],
      "source": [
        "print(string.lower())\n",
        "print(string.upper())"
      ]
    },
    {
      "cell_type": "code",
      "execution_count": null,
      "metadata": {
        "id": "5W0OEZHhJkuA",
        "outputId": "e231a4b9-7185-49a9-cc71-c23b168df4fb"
      },
      "outputs": [
        {
          "name": "stdout",
          "output_type": "stream",
          "text": [
            "Hikmet ÖZBEN\n",
            "Hikmet BENOL\n",
            "Turgut BENOL\n"
          ]
        }
      ],
      "source": [
        "print(string)\n",
        "\n",
        "string = string.replace('ÖZBEN', 'BENOL')\n",
        "print(string)\n",
        "\n",
        "string = string.replace('Hikmet', 'Turgut')\n",
        "print(string)"
      ]
    },
    {
      "cell_type": "code",
      "execution_count": null,
      "metadata": {
        "id": "7e5Q7Q-pJkuB",
        "outputId": "6025e4a7-85f4-4f07-f548-91036a354c42"
      },
      "outputs": [
        {
          "name": "stdout",
          "output_type": "stream",
          "text": [
            "False\n",
            "True\n"
          ]
        }
      ],
      "source": [
        "print(\"A\".islower())\n",
        "print(\"A\".isupper())"
      ]
    },
    {
      "cell_type": "code",
      "execution_count": null,
      "metadata": {
        "id": "R5eCZqgcJkuD",
        "outputId": "246c792f-1369-4b5f-ec2c-0ecd8f71b755"
      },
      "outputs": [
        {
          "name": "stdout",
          "output_type": "stream",
          "text": [
            "False\n",
            "True\n"
          ]
        }
      ],
      "source": [
        "print(string.startswith('Hikmet'))\n",
        "print(string.endswith('OL'))"
      ]
    },
    {
      "cell_type": "code",
      "execution_count": null,
      "metadata": {
        "id": "xgXTiG3nJkuE",
        "outputId": "6ed41a9b-54dc-4347-8d17-7b5790ecd102"
      },
      "outputs": [
        {
          "data": {
            "text/plain": [
              "['Turgut', 'BENOL']"
            ]
          },
          "execution_count": 180,
          "metadata": {},
          "output_type": "execute_result"
        }
      ],
      "source": [
        "string.split(\" \")"
      ]
    },
    {
      "cell_type": "code",
      "execution_count": null,
      "metadata": {
        "id": "vkHYejIQJkuG",
        "outputId": "05537102-4049-49cd-95c0-4be2403c8a92"
      },
      "outputs": [
        {
          "name": "stdout",
          "output_type": "stream",
          "text": [
            "Turgutcum BENOL\n"
          ]
        }
      ],
      "source": [
        "string = string.split()\n",
        "string = \"cum \".join(string)\n",
        "print(string)"
      ]
    },
    {
      "cell_type": "code",
      "execution_count": null,
      "metadata": {
        "id": "uKzCcZ03JkuH",
        "outputId": "0e52a010-6c3c-4276-ac35-71c860a6845d"
      },
      "outputs": [
        {
          "name": "stdout",
          "output_type": "stream",
          "text": [
            "['Merkür', 'Venüs', 'Dünya', 'Mars', 'Jüpiter', 'Satürn', 'Uranüs', 'Neptün']\n",
            "Venüs - Uranüs - Satürn - Neptün - Merkür - Mars - Jüpiter - Dünya\n"
          ]
        }
      ],
      "source": [
        "gezegenler = \"Merkür,Venüs,Dünya,Mars,Jüpiter,Satürn,Uranüs,Neptün\"\n",
        "gezegenler = gezegenler.split(\",\")\n",
        "print(gezegenler)\n",
        "\n",
        "sıralanmış_gezegenler = \" - \".join(sorted(gezegenler, reverse=True))\n",
        "\"\"\"\n",
        "sıralanmış_gezegenler = sorted(gezegenler)\n",
        "sıralanmış_gezegenler = sıralanmış_gezegenler[::-1]\n",
        "sıralanmış_gezgenler = \" - \".join(sıralanmış_gezegenler)\n",
        "print(sıralanmış_gezegenler)\n",
        "\"\"\"\n",
        "print(sıralanmış_gezegenler)\n"
      ]
    },
    {
      "cell_type": "code",
      "execution_count": null,
      "metadata": {
        "id": "LTBL28HTJkuI",
        "outputId": "b03a5a6e-2681-4592-ab0a-4852828f70e5"
      },
      "outputs": [
        {
          "data": {
            "text/plain": [
              "'Merkür Venüs Dünya Mars Jüpiter Satürn Uranüs Neptün'"
            ]
          },
          "execution_count": 187,
          "metadata": {},
          "output_type": "execute_result"
        }
      ],
      "source": [
        "gezegenler = \"     Merkür Venüs Dünya Mars Jüpiter Satürn Uranüs Neptün       \"\n",
        "gezegenler.strip()"
      ]
    },
    {
      "cell_type": "code",
      "execution_count": null,
      "metadata": {
        "id": "PJqqFF7OJkuJ",
        "outputId": "9469f68e-e936-4a12-c852-002d7e9f1a77"
      },
      "outputs": [
        {
          "data": {
            "text/plain": [
              "'     Merkür Venüs Dünya Mars Jüpiter Satürn Uranüs Neptün'"
            ]
          },
          "execution_count": 189,
          "metadata": {},
          "output_type": "execute_result"
        }
      ],
      "source": [
        "gezegenler = \"     Merkür Venüs Dünya Mars Jüpiter Satürn Uranüs Neptün       \"\n",
        "gezegenler.rstrip()"
      ]
    },
    {
      "cell_type": "markdown",
      "metadata": {
        "id": "V0B2QkdWJkuK"
      },
      "source": [
        "## Functions"
      ]
    },
    {
      "cell_type": "code",
      "execution_count": null,
      "metadata": {
        "id": "msp6-4AjJkuK",
        "outputId": "6177d304-9f9b-4934-a9e0-d016362e8db3"
      },
      "outputs": [
        {
          "name": "stdout",
          "output_type": "stream",
          "text": [
            "\n",
            "İsim: Ahmet DENİZ\n",
            "Ortalama: 78.33\n",
            "Harf notu: C\n",
            "--------------------\n",
            "İsim: Aylin TÜRK\n",
            "Ortalama: 45.00\n",
            "Harf notu: F\n",
            "--------------------\n",
            "İsim: Murat YILMAZ\n",
            "Ortalama: 95.00\n",
            "Harf notu: A\n",
            "--------------------"
          ]
        }
      ],
      "source": [
        "def not_hesaplama(ad, puanlar):\n",
        "    ortalama = sum(puanlar) / len(puanlar)\n",
        "\n",
        "    if ortalama > 90:\n",
        "        harf = 'A'\n",
        "    elif ortalama > 80:\n",
        "        harf = 'B'\n",
        "    elif ortalama > 60:\n",
        "        harf = 'C'\n",
        "    elif ortalama > 50:\n",
        "        harf = 'D'\n",
        "    else:\n",
        "        harf = 'F'\n",
        "\n",
        "    print(f'\\nİsim: {ad}\\nOrtalama: {ortalama:.2f}\\nHarf notu: {harf}\\n', end=\"-\"*20)\n",
        "\n",
        "not_hesaplama('Ahmet DENİZ', (60, 100, 75))\n",
        "not_hesaplama('Aylin TÜRK', (20, 50, 65))\n",
        "not_hesaplama('Murat YILMAZ', (100, 100, 85))"
      ]
    },
    {
      "cell_type": "code",
      "execution_count": null,
      "metadata": {
        "id": "0S3WZf4kJkuL",
        "outputId": "7de2ec5e-fee3-4ee7-d221-36e42a0d02ac"
      },
      "outputs": [
        {
          "name": "stdout",
          "output_type": "stream",
          "text": [
            "100\n",
            "20\n",
            "64\n"
          ]
        }
      ],
      "source": [
        "def carp(a=10, b=10):\n",
        "    sonuc = a * b\n",
        "    return sonuc\n",
        "\n",
        "sonuc = carp()\n",
        "print(sonuc)\n",
        "\n",
        "print(carp(5, 4))\n",
        "print(carp(b=32, a=2))"
      ]
    },
    {
      "cell_type": "code",
      "execution_count": null,
      "metadata": {
        "id": "Il7Fjz8jJkuQ",
        "outputId": "eb3b1641-4fbf-4527-e449-16a5f0e075c8"
      },
      "outputs": [
        {
          "name": "stdout",
          "output_type": "stream",
          "text": [
            "10\n",
            "5\n"
          ]
        }
      ],
      "source": [
        "a = 5\n",
        "def a_degistirme():\n",
        "    a = 10\n",
        "    print(a)\n",
        "a_degistirme()\n",
        "print(a)"
      ]
    },
    {
      "cell_type": "code",
      "execution_count": null,
      "metadata": {
        "id": "Ea_sU_BGJkuR",
        "outputId": "eb7778ca-449b-4332-fb32-03a1a7d08217"
      },
      "outputs": [
        {
          "name": "stdout",
          "output_type": "stream",
          "text": [
            "10\n",
            "10\n"
          ]
        }
      ],
      "source": [
        "a = 5\n",
        "def a_degistirme():\n",
        "    global a\n",
        "    a = 10\n",
        "    print(a)\n",
        "a_degistirme()\n",
        "print(a)"
      ]
    },
    {
      "cell_type": "markdown",
      "metadata": {
        "id": "rGfUR7zJJkuS"
      },
      "source": [
        "## Introduction to Object Oriented Programming (OOP)"
      ]
    },
    {
      "cell_type": "code",
      "execution_count": null,
      "metadata": {
        "id": "dx6d34ekJkuS",
        "outputId": "f60a1317-8e19-4670-ec7c-a5a1673d3cbc"
      },
      "outputs": [
        {
          "name": "stdout",
          "output_type": "stream",
          "text": [
            "Araba gidiyor..\n",
            "Araba duruyor..\n",
            "Araba gidiyor..\n"
          ]
        }
      ],
      "source": [
        "class Araba:\n",
        "    def sür(self):\n",
        "        print('Araba gidiyor..')\n",
        "\n",
        "    def dur(self):\n",
        "        print('Araba duruyor..')\n",
        "\n",
        "\n",
        "araba = Araba()\n",
        "araba.sür()\n",
        "araba.dur()\n",
        "araba.sür()"
      ]
    },
    {
      "cell_type": "code",
      "execution_count": null,
      "metadata": {
        "id": "oo_b3X7UJkuT"
      },
      "outputs": [],
      "source": [
        "class Araba:\n",
        "    \"\"\"\n",
        "    Python dersi için tanımladığımız araba sınıfımız.\n",
        "    -------------------------------------------------\n",
        "    Sınıf içerisinde arabanın yapmasını istediğimiz\n",
        "    ve yapabileceği fonksiyonları barındırıyor.\n",
        "    \"\"\"\n",
        "    def __init__(self, marka, model, yıl, renk):\n",
        "        \"\"\"\n",
        "        Bir nesne oluştururken aşağıdaki parametreleri\n",
        "        vermeyi unutmayın!\n",
        "        => Marka, Model, Yıl ve Renk\n",
        "        \"\"\"\n",
        "        self.marka = marka\n",
        "        self.model = model\n",
        "        self.yıl = yıl\n",
        "        self.renk = renk\n",
        "        self.durum = 0\n",
        "        \"\"\"\n",
        "        0: Kapalı\n",
        "        1: Çalışır halde duruyor\n",
        "        2: Gidiyor\n",
        "        \"\"\"\n",
        "\n",
        "    def çalıştır(self):\n",
        "        self.durum = 1\n",
        "\n",
        "    def durdur(self):\n",
        "        self.durum = 0\n",
        "\n",
        "    def sür(self):\n",
        "        if self.durum:\n",
        "            print('{} gidiyor'.format(self.model))\n",
        "            self.durum = 2\n",
        "        else:\n",
        "            print('Önce arabayı çalıştır')\n",
        "\n",
        "    def dur(self):\n",
        "        if self.durum:\n",
        "            print('{} duruyor'.format(self.model))\n",
        "            self.durum = 1\n",
        "        else:\n",
        "            print('Önce arabayı çalıştır')\n",
        "\n",
        "    def özellikleri_yazdır(self):\n",
        "        print(f\"Marka: {self.marka:<10}\\\n",
        "        Model: {self.model:<10}\\\n",
        "        Yıl: {self.yıl:<10}\\\n",
        "        Renk: {self.renk:<10}\")"
      ]
    },
    {
      "cell_type": "code",
      "execution_count": null,
      "metadata": {
        "id": "fNQfyFq2JkuU",
        "outputId": "8c5c815c-0dde-4e59-9026-df2966fd2d4a"
      },
      "outputs": [
        {
          "name": "stdout",
          "output_type": "stream",
          "text": [
            "Önce arabayı çalıştır\n",
            "Challenger gidiyor\n",
            "Marka: Dodge             Model: Challenger        Yıl: 2016              Renk: Siyah     \n",
            "Challenger duruyor\n"
          ]
        }
      ],
      "source": [
        "\n",
        "araba1 = Araba('Dodge', 'Challenger', '2016', 'Siyah')\n",
        "araba1.sür()\n",
        "araba1.çalıştır()\n",
        "araba1.sür()\n",
        "araba1.özellikleri_yazdır()\n",
        "araba1.dur()"
      ]
    },
    {
      "cell_type": "code",
      "execution_count": null,
      "metadata": {
        "id": "iXoLgEdTJkuV"
      },
      "outputs": [],
      "source": [
        "araba2 = Araba('Ford', 'Mustang', '1971', 'Sarı-Siyah')\n",
        "araba2.sür()\n",
        "araba2.çalıştır()\n",
        "araba2.sür()\n",
        "araba2.özellikleri_yazdır()\n",
        "araba2.dur()"
      ]
    },
    {
      "cell_type": "markdown",
      "source": [
        "## One-liner for loop"
      ],
      "metadata": {
        "id": "0JrkkwQva0WU"
      }
    },
    {
      "cell_type": "code",
      "source": [
        "kelime = \"Python\"\n",
        "harf_listesi = []\n",
        "\n",
        "for harf in kelime:\n",
        "    harf_listesi.append(harf)\n",
        "\n",
        "print(harf_listesi)"
      ],
      "metadata": {
        "colab": {
          "base_uri": "https://localhost:8080/"
        },
        "id": "affgUs9Da20T",
        "outputId": "82b1b375-f2d0-4746-ae23-a76faa2b7c6f"
      },
      "execution_count": 1,
      "outputs": [
        {
          "output_type": "stream",
          "name": "stdout",
          "text": [
            "['P', 'y', 't', 'h', 'o', 'n']\n"
          ]
        }
      ]
    },
    {
      "cell_type": "code",
      "source": [
        "harf_listesi = [harf for harf in \"Python\"]\n",
        "print(harf_listesi)"
      ],
      "metadata": {
        "colab": {
          "base_uri": "https://localhost:8080/"
        },
        "id": "qUw62hbxa4JR",
        "outputId": "00420fe9-f6ed-4b28-9a99-feea0c789251"
      },
      "execution_count": 2,
      "outputs": [
        {
          "output_type": "stream",
          "name": "stdout",
          "text": [
            "['P', 'y', 't', 'h', 'o', 'n']\n"
          ]
        }
      ]
    },
    {
      "cell_type": "markdown",
      "source": [
        "## One-liner if"
      ],
      "metadata": {
        "id": "UzP3TATda77V"
      }
    },
    {
      "cell_type": "code",
      "source": [
        "koşul = 3\n",
        "\n",
        "if koşul > 5:\n",
        "    kelime = \"Elma\"\n",
        "elif koşul > 7:\n",
        "    kelime = \"Çilek\"\n",
        "else:\n",
        "    kelime = \"Armut\"\n",
        "print(kelime)"
      ],
      "metadata": {
        "colab": {
          "base_uri": "https://localhost:8080/"
        },
        "id": "bJMXSVQba5iS",
        "outputId": "387faeed-d8de-4185-d715-ed69a5c092da"
      },
      "execution_count": 3,
      "outputs": [
        {
          "output_type": "stream",
          "name": "stdout",
          "text": [
            "Armut\n"
          ]
        }
      ]
    },
    {
      "cell_type": "code",
      "source": [
        "kelime = \"Elma\" if koşul > 5 else \"Armut\"\n",
        "kelime"
      ],
      "metadata": {
        "colab": {
          "base_uri": "https://localhost:8080/",
          "height": 35
        },
        "id": "DAoyheMNa_Fl",
        "outputId": "b13f4995-5372-459e-bafa-8098e453254f"
      },
      "execution_count": 7,
      "outputs": [
        {
          "output_type": "execute_result",
          "data": {
            "text/plain": [
              "'Armut'"
            ],
            "application/vnd.google.colaboratory.intrinsic+json": {
              "type": "string"
            }
          },
          "metadata": {},
          "execution_count": 7
        }
      ]
    },
    {
      "cell_type": "markdown",
      "source": [
        "## One-liner Lambda Function"
      ],
      "metadata": {
        "id": "Yb-AYxFobhz9"
      }
    },
    {
      "cell_type": "code",
      "source": [
        "kare_al = lambda x: x**2\n",
        "kare_al(5)"
      ],
      "metadata": {
        "colab": {
          "base_uri": "https://localhost:8080/"
        },
        "id": "fjuqgGOlbAje",
        "outputId": "45983cc1-041f-44da-afe2-bd6fa17c5c51"
      },
      "execution_count": 8,
      "outputs": [
        {
          "output_type": "execute_result",
          "data": {
            "text/plain": [
              "25"
            ]
          },
          "metadata": {},
          "execution_count": 8
        }
      ]
    },
    {
      "cell_type": "markdown",
      "source": [
        "## map, reduce, filter, zip functions"
      ],
      "metadata": {
        "id": "UTO2oWKpbpbx"
      }
    },
    {
      "cell_type": "code",
      "source": [
        "sayılar = [1, 2, 3, 4, 5, 6, 7]\n",
        "sayıların_kareleri = []\n",
        "\n",
        "for sayı in sayılar:\n",
        "    sayıların_kareleri.append(kare_al(sayı))\n",
        "print(sayıların_kareleri)"
      ],
      "metadata": {
        "colab": {
          "base_uri": "https://localhost:8080/"
        },
        "id": "VX3nMt8-blxF",
        "outputId": "a4a13da1-2f1f-4784-c027-e438e1d4a3eb"
      },
      "execution_count": 9,
      "outputs": [
        {
          "output_type": "stream",
          "name": "stdout",
          "text": [
            "[1, 4, 9, 16, 25, 36, 49]\n"
          ]
        }
      ]
    },
    {
      "cell_type": "code",
      "source": [
        "sayıların_kareleri =  map(kare_al, sayılar)\n",
        "print(sayıların_kareleri)\n",
        "for sayı in sayıların_kareleri:\n",
        "    print(sayı)"
      ],
      "metadata": {
        "colab": {
          "base_uri": "https://localhost:8080/"
        },
        "id": "ZnuBIWBmbtTq",
        "outputId": "716c7d03-0f9d-437d-fae7-fe35a5138e34"
      },
      "execution_count": 10,
      "outputs": [
        {
          "output_type": "stream",
          "name": "stdout",
          "text": [
            "<map object at 0x7e7f87977460>\n",
            "1\n",
            "4\n",
            "9\n",
            "16\n",
            "25\n",
            "36\n",
            "49\n"
          ]
        }
      ]
    },
    {
      "cell_type": "code",
      "source": [
        "from functools import reduce\n",
        "\n",
        "sayılar = [1, 6, 3, 7, 10, 0]\n",
        "print(reduce(lambda x,y: x if x > y else y, sayılar))"
      ],
      "metadata": {
        "colab": {
          "base_uri": "https://localhost:8080/"
        },
        "id": "4bamnx-3bugE",
        "outputId": "641b00d3-c813-4af4-de8c-3eb6f8f902de"
      },
      "execution_count": 11,
      "outputs": [
        {
          "output_type": "stream",
          "name": "stdout",
          "text": [
            "10\n"
          ]
        }
      ]
    },
    {
      "cell_type": "code",
      "source": [
        "def beşten_uzun(kelime):\n",
        "    if len(kelime) > 5:\n",
        "        return True\n",
        "    else:\n",
        "        return False\n",
        "isimler = ['Oğuz', 'Ahmet', 'Necati', 'Ali', 'Mehmet', 'Ziya']\n",
        "uzun_isimler = filter(beşten_uzun, isimler)\n",
        "print(uzun_isimler)\n",
        "for isim in uzun_isimler:\n",
        "    print(isim)"
      ],
      "metadata": {
        "colab": {
          "base_uri": "https://localhost:8080/"
        },
        "id": "uLUkiaHybwhX",
        "outputId": "2132d13c-a075-47fc-8cd3-3a3422e5d66a"
      },
      "execution_count": 12,
      "outputs": [
        {
          "output_type": "stream",
          "name": "stdout",
          "text": [
            "<filter object at 0x7e7f87940a00>\n",
            "Necati\n",
            "Mehmet\n"
          ]
        }
      ]
    },
    {
      "cell_type": "code",
      "source": [
        "sayılar = [0, 1, 2, 3, 4, 5]\n",
        "isimler = ['Oğuz', 'Ahmet', 'Necati', 'Ali', 'Mehmet', 'Ziya']\n",
        "\n",
        "\n",
        "for i, j in zip(sayılar, isimler):\n",
        "    print(i)"
      ],
      "metadata": {
        "colab": {
          "base_uri": "https://localhost:8080/"
        },
        "id": "tZAvFB-CbyWW",
        "outputId": "7f28f7fb-c6f0-4203-d36d-b668ada17aa1"
      },
      "execution_count": 13,
      "outputs": [
        {
          "output_type": "stream",
          "name": "stdout",
          "text": [
            "0\n",
            "1\n",
            "2\n",
            "3\n",
            "4\n",
            "5\n"
          ]
        }
      ]
    },
    {
      "cell_type": "markdown",
      "source": [
        "## Generators"
      ],
      "metadata": {
        "id": "a92fE7Iqb2Qk"
      }
    },
    {
      "cell_type": "code",
      "source": [
        "def generator():\n",
        "    i = 1\n",
        "    print('Öncelikle bu basıldı')\n",
        "    yield i\n",
        "\n",
        "    i += 1\n",
        "    print('Sonra bu')\n",
        "    yield i\n",
        "\n",
        "for eleman in generator():\n",
        "    print(\"For döngüsü içinde:\", eleman)\n",
        "#print(next())"
      ],
      "metadata": {
        "colab": {
          "base_uri": "https://localhost:8080/"
        },
        "id": "os5gvdsvb0Dd",
        "outputId": "1f391a4c-f11a-4d3f-ad1e-93facda3f27f"
      },
      "execution_count": 14,
      "outputs": [
        {
          "output_type": "stream",
          "name": "stdout",
          "text": [
            "Öncelikle bu basıldı\n",
            "For döngüsü içinde: 1\n",
            "Sonra bu\n",
            "For döngüsü içinde: 2\n"
          ]
        }
      ]
    },
    {
      "cell_type": "code",
      "source": [
        "a = 5\n",
        "\n",
        "def outer():\n",
        "    a = 3\n",
        "    def inner():\n",
        "        nonlocal a\n",
        "        a += 5\n",
        "        print(\"inner fonksiyon:\", a)\n",
        "    print(\"outer fonksiyon:\", a)\n",
        "    return inner()\n",
        "\n",
        "outer()\n",
        "print(\"global:\", a)"
      ],
      "metadata": {
        "colab": {
          "base_uri": "https://localhost:8080/"
        },
        "id": "_lTFTgwLb4yT",
        "outputId": "0ae6c017-90b1-4e3a-8a67-f156dbbbe962"
      },
      "execution_count": 15,
      "outputs": [
        {
          "output_type": "stream",
          "name": "stdout",
          "text": [
            "outer fonksiyon: 3\n",
            "inner fonksiyon: 8\n",
            "global: 5\n"
          ]
        }
      ]
    },
    {
      "cell_type": "markdown",
      "source": [
        "## Decorators"
      ],
      "metadata": {
        "id": "AlIPllHKb7Vz"
      }
    },
    {
      "cell_type": "code",
      "source": [
        "from datetime import datetime\n",
        "\n",
        "def show_time(func):\n",
        "    def wrapper(name):\n",
        "        print(\"Time:\", datetime.now().time())\n",
        "        func(name)\n",
        "    return wrapper\n",
        "\n",
        "@show_time\n",
        "def say_hi(name=\"John\"):\n",
        "    print(\"Hi {}!\".format(name))\n",
        "\n",
        "say_hi(\"Ahmet\")"
      ],
      "metadata": {
        "colab": {
          "base_uri": "https://localhost:8080/"
        },
        "id": "GFxmNY4ub6Wh",
        "outputId": "67a980d2-f334-4111-d6f3-480caafcc031"
      },
      "execution_count": 16,
      "outputs": [
        {
          "output_type": "stream",
          "name": "stdout",
          "text": [
            "Time: 14:53:44.988299\n",
            "Hi Ahmet!\n"
          ]
        }
      ]
    },
    {
      "cell_type": "code",
      "source": [],
      "metadata": {
        "id": "ByMI-9Qib-2d"
      },
      "execution_count": null,
      "outputs": []
    }
  ],
  "metadata": {
    "colab": {
      "provenance": []
    },
    "kernelspec": {
      "display_name": "Python 3.8.1 64-bit ('3.8.1': pyenv)",
      "language": "python",
      "name": "python38164bit381pyenvf307e63da0224bf8a7246253ff8d7272"
    },
    "language_info": {
      "codemirror_mode": {
        "name": "ipython",
        "version": 3
      },
      "file_extension": ".py",
      "mimetype": "text/x-python",
      "name": "python",
      "nbconvert_exporter": "python",
      "pygments_lexer": "ipython3",
      "version": "3.8.1"
    }
  },
  "nbformat": 4,
  "nbformat_minor": 0
}