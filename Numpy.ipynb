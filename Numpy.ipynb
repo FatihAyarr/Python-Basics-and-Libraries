{
  "cells": [
    {
      "cell_type": "markdown",
      "metadata": {
        "id": "QWY2EZ5qTrwQ"
      },
      "source": [
        "# Numpy"
      ]
    },
    {
      "cell_type": "markdown",
      "metadata": {
        "id": "uo9hWCt8TrwQ"
      },
      "source": [
        "![Scalar Vector Matrix Tensor](https://res.cloudinary.com/practicaldev/image/fetch/s--oTgfo1EL--/c_limit%2Cf_auto%2Cfl_progressive%2Cq_auto%2Cw_880/https://raw.githubusercontent.com/adhiraiyan/DeepLearningWithTF2.0/master/notebooks/figures/fig0201a.png)"
      ]
    },
    {
      "cell_type": "code",
      "execution_count": null,
      "metadata": {
        "id": "Jm7vjTEUTrwQ"
      },
      "outputs": [],
      "source": [
        "import numpy as np"
      ]
    },
    {
      "cell_type": "code",
      "execution_count": null,
      "metadata": {
        "id": "E8DXe9kPTrwR",
        "outputId": "43606017-af76-4dd0-c6ae-29c171bc67f6"
      },
      "outputs": [
        {
          "name": "stdout",
          "output_type": "stream",
          "text": [
            "<class 'numpy.ndarray'>\n",
            "(6,)\n"
          ]
        }
      ],
      "source": [
        "a = np.array([10, 20, 30, 40, 50, 60])\n",
        "print(type(a))\n",
        "print(a.shape)"
      ]
    },
    {
      "cell_type": "code",
      "execution_count": null,
      "metadata": {
        "id": "0cC8x_txTrwR",
        "outputId": "8cd1bc09-22d4-4c3d-d376-63d77e851f00"
      },
      "outputs": [
        {
          "data": {
            "text/plain": [
              "numpy.int32"
            ]
          },
          "execution_count": 22,
          "metadata": {},
          "output_type": "execute_result"
        }
      ],
      "source": [
        "type(a[3])"
      ]
    },
    {
      "cell_type": "code",
      "execution_count": null,
      "metadata": {
        "id": "UW5ecnIkTrwR",
        "outputId": "06bf6282-fa66-411f-8684-920f1053c5ac"
      },
      "outputs": [
        {
          "name": "stdout",
          "output_type": "stream",
          "text": [
            "60\n"
          ]
        }
      ],
      "source": [
        "a[2] *= 2\n",
        "print(a[2])"
      ]
    },
    {
      "cell_type": "code",
      "execution_count": null,
      "metadata": {
        "id": "hX0QIXjiTrwR",
        "outputId": "d22ed617-ba32-4f28-ae40-db8066c53f38"
      },
      "outputs": [
        {
          "data": {
            "text/plain": [
              "array([10, 20, 60, 40, 50, 60])"
            ]
          },
          "execution_count": 24,
          "metadata": {},
          "output_type": "execute_result"
        }
      ],
      "source": [
        "a"
      ]
    },
    {
      "cell_type": "code",
      "execution_count": null,
      "metadata": {
        "id": "hsqWaDV6TrwS",
        "outputId": "f4cfad70-0d3b-46d5-f5cf-f4d27024b908"
      },
      "outputs": [
        {
          "name": "stdout",
          "output_type": "stream",
          "text": [
            "[[10 20 30]\n",
            " [40 50 60]]\n",
            "(2, 3)\n",
            "int32\n"
          ]
        }
      ],
      "source": [
        "b = np.array([\n",
        "    [10, 20, 30],\n",
        "    [40, 50, 60]\n",
        "])\n",
        "print(b)\n",
        "print(b.shape)\n",
        "print(b.dtype)"
      ]
    },
    {
      "cell_type": "code",
      "execution_count": null,
      "metadata": {
        "id": "OLynepP-TrwS",
        "outputId": "277f0d57-c73e-413c-9a8d-06f36329ff6b"
      },
      "outputs": [
        {
          "data": {
            "text/plain": [
              "array([-0.54402111,  0.91294525, -0.98803162,  0.74511316, -0.26237485,\n",
              "       -0.30481062])"
            ]
          },
          "execution_count": 26,
          "metadata": {},
          "output_type": "execute_result"
        }
      ],
      "source": [
        "a = np.array([10, 20, 30, 40, 50, 60])\n",
        "np.sin(a)"
      ]
    },
    {
      "cell_type": "code",
      "execution_count": null,
      "metadata": {
        "id": "7CNrhsrLTrwS",
        "outputId": "c065c977-c481-4b48-ee42-190fe759a55d"
      },
      "outputs": [
        {
          "data": {
            "text/plain": [
              "array([-0.83907153,  0.40808206,  0.15425145, -0.66693806,  0.96496603,\n",
              "       -0.95241298])"
            ]
          },
          "execution_count": 27,
          "metadata": {},
          "output_type": "execute_result"
        }
      ],
      "source": [
        "np.cos(a)"
      ]
    },
    {
      "cell_type": "code",
      "execution_count": null,
      "metadata": {
        "id": "a-ZtpLjXTrwS",
        "outputId": "3ea8ff7d-fcfd-4527-d516-e57710d37594"
      },
      "outputs": [
        {
          "data": {
            "text/plain": [
              "array([2.30258509, 2.99573227, 3.40119738, 3.68887945, 3.91202301,\n",
              "       4.09434456])"
            ]
          },
          "execution_count": 28,
          "metadata": {},
          "output_type": "execute_result"
        }
      ],
      "source": [
        "np.log(a)"
      ]
    },
    {
      "cell_type": "code",
      "execution_count": null,
      "metadata": {
        "id": "_ph5lR2yTrwT",
        "outputId": "fdda5547-cb65-4f2b-860e-e3efdd7e9d86"
      },
      "outputs": [
        {
          "data": {
            "text/plain": [
              "array([2.20264658e+04, 4.85165195e+08, 1.06864746e+13, 2.35385267e+17,\n",
              "       5.18470553e+21, 1.14200739e+26])"
            ]
          },
          "execution_count": 29,
          "metadata": {},
          "output_type": "execute_result"
        }
      ],
      "source": [
        "np.exp(a)"
      ]
    },
    {
      "cell_type": "code",
      "execution_count": null,
      "metadata": {
        "id": "l9bkficBTrwT",
        "outputId": "22a27d07-ea44-4e99-850f-334fea5c8f0f"
      },
      "outputs": [
        {
          "data": {
            "text/plain": [
              "60"
            ]
          },
          "execution_count": 30,
          "metadata": {},
          "output_type": "execute_result"
        }
      ],
      "source": [
        "np.max(a)"
      ]
    },
    {
      "cell_type": "code",
      "execution_count": null,
      "metadata": {
        "id": "rL2eo7-jTrwT",
        "outputId": "74b6ca7c-bcb3-44cd-ba6b-0cf3874769f1"
      },
      "outputs": [
        {
          "data": {
            "text/plain": [
              "10"
            ]
          },
          "execution_count": 31,
          "metadata": {},
          "output_type": "execute_result"
        }
      ],
      "source": [
        "np.min(a)"
      ]
    },
    {
      "cell_type": "code",
      "execution_count": null,
      "metadata": {
        "id": "c3tbhs2nTrwT",
        "outputId": "a98f7f22-ee72-4932-b5ab-ca87ac6e8870"
      },
      "outputs": [
        {
          "data": {
            "text/plain": [
              "5"
            ]
          },
          "execution_count": 32,
          "metadata": {},
          "output_type": "execute_result"
        }
      ],
      "source": [
        "np.argmax(a) #maximum değerin indexini verir"
      ]
    },
    {
      "cell_type": "code",
      "execution_count": null,
      "metadata": {
        "id": "qPBl2716TrwU",
        "outputId": "a0fcce3f-68f8-4b07-c015-dc63d3bcb3e5"
      },
      "outputs": [
        {
          "data": {
            "text/plain": [
              "35.0"
            ]
          },
          "execution_count": 33,
          "metadata": {},
          "output_type": "execute_result"
        }
      ],
      "source": [
        "np.mean(a)"
      ]
    },
    {
      "cell_type": "code",
      "execution_count": null,
      "metadata": {
        "id": "U1pnqDKyTrwU",
        "outputId": "5c2be8cb-c20e-4115-c7fe-625b3b76f5cc"
      },
      "outputs": [
        {
          "data": {
            "text/plain": [
              "35.0"
            ]
          },
          "execution_count": 34,
          "metadata": {},
          "output_type": "execute_result"
        }
      ],
      "source": [
        "np.median(a)"
      ]
    },
    {
      "cell_type": "code",
      "execution_count": null,
      "metadata": {
        "id": "38kDxbg5TrwU",
        "outputId": "04d1c65f-87c6-4806-dafa-1d89cf59e87a"
      },
      "outputs": [
        {
          "data": {
            "text/plain": [
              "17.07825127659933"
            ]
          },
          "execution_count": 35,
          "metadata": {},
          "output_type": "execute_result"
        }
      ],
      "source": [
        "np.std(a)"
      ]
    },
    {
      "cell_type": "code",
      "execution_count": null,
      "metadata": {
        "id": "rTQPkvihTrwZ",
        "outputId": "313b8c02-eebb-4ec7-c5c3-899193e78349"
      },
      "outputs": [
        {
          "data": {
            "text/plain": [
              "array([[10, 20, 30],\n",
              "       [40, 50, 60]])"
            ]
          },
          "execution_count": 36,
          "metadata": {},
          "output_type": "execute_result"
        }
      ],
      "source": [
        "b"
      ]
    },
    {
      "cell_type": "code",
      "execution_count": null,
      "metadata": {
        "id": "4PthtJZNTrwZ",
        "outputId": "adb83961-a7fd-49e9-955b-904a5e9ccc9c"
      },
      "outputs": [
        {
          "data": {
            "text/plain": [
              "array([50, 70, 90])"
            ]
          },
          "execution_count": 38,
          "metadata": {},
          "output_type": "execute_result"
        }
      ],
      "source": [
        "# axis=1 => Row\n",
        "# axis=0 => Column\n",
        "np.sum(b, axis=0)"
      ]
    },
    {
      "cell_type": "code",
      "execution_count": null,
      "metadata": {
        "id": "M_qXSiYkTrwZ",
        "outputId": "19d629ea-df99-4103-bfc6-48f3156f6087"
      },
      "outputs": [
        {
          "name": "stdout",
          "output_type": "stream",
          "text": [
            "[[0. 0. 0.]\n",
            " [0. 0. 0.]\n",
            " [0. 0. 0.]]\n"
          ]
        }
      ],
      "source": [
        "zeros = np.zeros((3, 3))\n",
        "print(zeros)"
      ]
    },
    {
      "cell_type": "code",
      "execution_count": null,
      "metadata": {
        "id": "I9cz2PTyTrwZ",
        "outputId": "e6217b18-face-4210-f5ef-890c6d933651"
      },
      "outputs": [
        {
          "name": "stdout",
          "output_type": "stream",
          "text": [
            "[[1. 1. 1.]\n",
            " [1. 1. 1.]\n",
            " [1. 1. 1.]]\n"
          ]
        }
      ],
      "source": [
        "ones = np.ones((3, 3))\n",
        "print(ones)"
      ]
    },
    {
      "cell_type": "code",
      "execution_count": null,
      "metadata": {
        "id": "6zgwARj4Trwa",
        "outputId": "b41e2acb-8af2-4afe-e6a4-7386371b6c38"
      },
      "outputs": [
        {
          "name": "stdout",
          "output_type": "stream",
          "text": [
            "[[8 8 8]\n",
            " [8 8 8]\n",
            " [8 8 8]]\n"
          ]
        }
      ],
      "source": [
        "full = np.full((3, 3), 8)\n",
        "print(full)"
      ]
    },
    {
      "cell_type": "code",
      "execution_count": null,
      "metadata": {
        "id": "HFJr_wLCTrwa",
        "outputId": "9f70e313-fef3-497e-9ccd-16f77460f536"
      },
      "outputs": [
        {
          "name": "stdout",
          "output_type": "stream",
          "text": [
            "[[1. 0. 0. 0. 0. 0. 0. 0. 0.]\n",
            " [0. 1. 0. 0. 0. 0. 0. 0. 0.]\n",
            " [0. 0. 1. 0. 0. 0. 0. 0. 0.]\n",
            " [0. 0. 0. 1. 0. 0. 0. 0. 0.]\n",
            " [0. 0. 0. 0. 1. 0. 0. 0. 0.]\n",
            " [0. 0. 0. 0. 0. 1. 0. 0. 0.]\n",
            " [0. 0. 0. 0. 0. 0. 1. 0. 0.]\n",
            " [0. 0. 0. 0. 0. 0. 0. 1. 0.]\n",
            " [0. 0. 0. 0. 0. 0. 0. 0. 1.]]\n"
          ]
        }
      ],
      "source": [
        "eye = np.eye(9)\n",
        "print(eye)"
      ]
    },
    {
      "cell_type": "code",
      "execution_count": null,
      "metadata": {
        "id": "1arAwszETrwa",
        "outputId": "96b604ae-4cbb-40ef-c8bb-f36d16a5b091"
      },
      "outputs": [
        {
          "name": "stdout",
          "output_type": "stream",
          "text": [
            "[0 1 2 3 4 5 6]\n",
            "[0 2 4 6 8]\n"
          ]
        }
      ],
      "source": [
        "arange = np.arange(7)\n",
        "print(arange)\n",
        "\n",
        "arange = np.arange(0, 10, 2)\n",
        "print(arange)"
      ]
    },
    {
      "cell_type": "code",
      "execution_count": null,
      "metadata": {
        "id": "2126kDxSTrwa",
        "outputId": "10cf405e-fce2-476d-df9e-c01b36275b48"
      },
      "outputs": [
        {
          "name": "stdout",
          "output_type": "stream",
          "text": [
            "[[0.96472088 0.97336887 0.25534287]\n",
            " [0.26403895 0.36357651 0.86289624]\n",
            " [0.0803913  0.76478255 0.6622259 ]]\n"
          ]
        }
      ],
      "source": [
        "# Create randint\n",
        "random = np.random.random((3, 3))\n",
        "print(random)"
      ]
    },
    {
      "cell_type": "code",
      "execution_count": null,
      "metadata": {
        "id": "_tsC9fjrTrwb",
        "outputId": "60a887ce-80e8-43b8-9e30-9a4511b7e98d"
      },
      "outputs": [
        {
          "name": "stdout",
          "output_type": "stream",
          "text": [
            "[[ 5 10  8 19 14]\n",
            " [ 1 14 11  9 11]\n",
            " [17  8  1 18  2]\n",
            " [ 9 17 14  2  0]\n",
            " [19  0 18  2  7]]\n"
          ]
        }
      ],
      "source": [
        "arr = np.random.randint(20, size=(5, 5))\n",
        "print(arr)"
      ]
    },
    {
      "cell_type": "code",
      "execution_count": null,
      "metadata": {
        "id": "J400dzWtTrwc",
        "outputId": "df95d0e0-9168-4cc5-affd-b74c13b041ff"
      },
      "outputs": [
        {
          "data": {
            "text/plain": [
              "array([[0., 0., 0.],\n",
              "       [0., 0., 0.],\n",
              "       [0., 0., 0.]])"
            ]
          },
          "execution_count": 48,
          "metadata": {},
          "output_type": "execute_result"
        }
      ],
      "source": [
        "zeros*6"
      ]
    },
    {
      "cell_type": "code",
      "execution_count": null,
      "metadata": {
        "id": "DvfXNhGdTrwc",
        "outputId": "e3a80926-8304-4a01-e190-bcfc607eee76"
      },
      "outputs": [
        {
          "data": {
            "text/plain": [
              "array([[ 5, 10,  8, 19, 14],\n",
              "       [ 1, 14, 11,  9, 11],\n",
              "       [17,  8,  1, 18,  2],\n",
              "       [ 9, 17, 14,  2,  0],\n",
              "       [19,  0, 18,  2,  7]])"
            ]
          },
          "execution_count": 49,
          "metadata": {},
          "output_type": "execute_result"
        }
      ],
      "source": [
        "arr"
      ]
    },
    {
      "cell_type": "code",
      "execution_count": null,
      "metadata": {
        "id": "xA5oUrFqTrwc",
        "outputId": "af3a82ad-ea1b-4386-8c49-c5182cdaa72a"
      },
      "outputs": [
        {
          "data": {
            "text/plain": [
              "array([[ 5, 10,  8, 19],\n",
              "       [ 1, 14, 11,  9],\n",
              "       [17,  8,  1, 18]])"
            ]
          },
          "execution_count": 52,
          "metadata": {},
          "output_type": "execute_result"
        }
      ],
      "source": [
        "arr[0:3, 0:4]\n",
        "#arr[satır, sütun]"
      ]
    },
    {
      "cell_type": "code",
      "execution_count": null,
      "metadata": {
        "id": "Y6yYLU4tTrwd",
        "outputId": "f92a9a3b-b7df-4cfb-9a8b-3bb56c510207"
      },
      "outputs": [
        {
          "data": {
            "text/plain": [
              "array([19, 14, 14, 11, 11, 17, 18, 17, 14, 19, 18])"
            ]
          },
          "execution_count": 53,
          "metadata": {},
          "output_type": "execute_result"
        }
      ],
      "source": [
        "arr[arr > 10]"
      ]
    },
    {
      "cell_type": "code",
      "execution_count": null,
      "metadata": {
        "id": "5wB9cJ9fTrwd",
        "outputId": "65463c9c-85bf-4541-f8a8-f9e04098b8f1"
      },
      "outputs": [
        {
          "data": {
            "text/plain": [
              "(array([0, 0, 1, 1, 1, 2, 2, 3, 3, 4, 4], dtype=int64),\n",
              " array([3, 4, 1, 2, 4, 0, 3, 1, 2, 0, 2], dtype=int64))"
            ]
          },
          "execution_count": 55,
          "metadata": {},
          "output_type": "execute_result"
        }
      ],
      "source": [
        "np.where(arr > 10)"
      ]
    },
    {
      "cell_type": "code",
      "execution_count": null,
      "metadata": {
        "id": "SCLxryATTrwd",
        "outputId": "b435e0fd-70f5-43fa-d886-094f1fdefc05"
      },
      "outputs": [
        {
          "data": {
            "text/plain": [
              "(3, 4)"
            ]
          },
          "execution_count": 60,
          "metadata": {},
          "output_type": "execute_result"
        }
      ],
      "source": [
        "np.array([\n",
        "    [1, 2, 3, 4],\n",
        "    [5, 6, 7, 8],\n",
        "    [9, 10, 11, 12]\n",
        "]).reshape(3, -1).shape"
      ]
    },
    {
      "cell_type": "code",
      "execution_count": null,
      "metadata": {
        "id": "ihrF3eCRTrwe",
        "outputId": "43ecfed4-fc60-45fc-8f0d-84d69c570e5b"
      },
      "outputs": [
        {
          "name": "stdout",
          "output_type": "stream",
          "text": [
            "[[5 8 5]\n",
            " [6 9 4]\n",
            " [2 9 6]]\n",
            "[[ 0.39130435 -0.06521739 -0.2826087 ]\n",
            " [-0.60869565  0.43478261  0.2173913 ]\n",
            " [ 0.7826087  -0.63043478 -0.06521739]]\n"
          ]
        }
      ],
      "source": [
        "c = np.random.randint(10, size=(3, 3))\n",
        "print(c)\n",
        "c_inv = np.linalg.inv(c)\n",
        "print(c_inv)\n",
        "#matrisin tersini verir\n"
      ]
    },
    {
      "cell_type": "markdown",
      "metadata": {
        "id": "tFAICt47Trwe"
      },
      "source": [
        "## Dot product\n",
        "![Dot product](https://algebra1course.files.wordpress.com/2013/02/slide10.jpg)\n",
        "\n",
        "credit: https://algebra1course.files.wordpress.com/"
      ]
    },
    {
      "cell_type": "code",
      "execution_count": null,
      "metadata": {
        "id": "9CMwQtn-Trwf",
        "outputId": "4a88589a-5882-40ff-b928-3015cb6f40bd"
      },
      "outputs": [
        {
          "name": "stdout",
          "output_type": "stream",
          "text": [
            "(2, 3)\n"
          ]
        }
      ],
      "source": [
        "a = np.array([\n",
        "    [1, 2, 3],\n",
        "    [4, 5, 6]\n",
        "])\n",
        "print(a.shape)"
      ]
    },
    {
      "cell_type": "code",
      "execution_count": null,
      "metadata": {
        "id": "c7NQsn1FTrwf",
        "outputId": "4d8cae58-b5c8-4f9f-9975-1a180009e4c7"
      },
      "outputs": [
        {
          "name": "stdout",
          "output_type": "stream",
          "text": [
            "(3, 2)\n"
          ]
        }
      ],
      "source": [
        "b = np.array([\n",
        "    [7, 8, 9],\n",
        "    [10, 11, 12]\n",
        "])\n",
        "b = b.reshape(3,2)\n",
        "print(b.shape)"
      ]
    },
    {
      "cell_type": "code",
      "execution_count": null,
      "metadata": {
        "id": "vWdzDR-dTrwf",
        "outputId": "a5f990b9-33ab-41fa-92ee-ee6a4ebae708"
      },
      "outputs": [
        {
          "data": {
            "text/plain": [
              "array([[ 58,  64],\n",
              "       [139, 154]])"
            ]
          },
          "execution_count": 76,
          "metadata": {},
          "output_type": "execute_result"
        }
      ],
      "source": [
        "axb = np.dot(a, b)\n",
        "axb"
      ]
    },
    {
      "cell_type": "code",
      "execution_count": null,
      "metadata": {
        "id": "W_Zh8hecTrwf",
        "outputId": "bd86ed45-0a68-49a3-d89b-c2f0345728dd"
      },
      "outputs": [
        {
          "data": {
            "text/plain": [
              "(2, 3)"
            ]
          },
          "execution_count": 77,
          "metadata": {},
          "output_type": "execute_result"
        }
      ],
      "source": [
        "# Transpose\n",
        "(b.T).shape"
      ]
    },
    {
      "cell_type": "code",
      "execution_count": null,
      "metadata": {
        "id": "hxOuFqThTrwg"
      },
      "outputs": [],
      "source": []
    }
  ],
  "metadata": {
    "kernelspec": {
      "display_name": "Python 3",
      "language": "python",
      "name": "python3"
    },
    "language_info": {
      "codemirror_mode": {
        "name": "ipython",
        "version": 3
      },
      "file_extension": ".py",
      "mimetype": "text/x-python",
      "name": "python",
      "nbconvert_exporter": "python",
      "pygments_lexer": "ipython3",
      "version": "3.6.5"
    },
    "colab": {
      "provenance": []
    }
  },
  "nbformat": 4,
  "nbformat_minor": 0
}